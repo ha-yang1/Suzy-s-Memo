{
  "nbformat": 4,
  "nbformat_minor": 0,
  "metadata": {
    "colab": {
      "provenance": [],
      "toc_visible": true,
      "include_colab_link": true
    },
    "kernelspec": {
      "name": "python3",
      "display_name": "Python 3"
    },
    "language_info": {
      "name": "python"
    }
  },
  "cells": [
    {
      "cell_type": "markdown",
      "metadata": {
        "id": "view-in-github",
        "colab_type": "text"
      },
      "source": [
        "<a href=\"https://colab.research.google.com/github/ha-yang1/Suzy-s-Memo/blob/main/%ED%8C%8C%EC%9D%B4%EC%8D%AC100%EC%A0%9C_50%EC%A0%9C.ipynb\" target=\"_parent\"><img src=\"https://colab.research.google.com/assets/colab-badge.svg\" alt=\"Open In Colab\"/></a>"
      ]
    },
    {
      "cell_type": "markdown",
      "metadata": {
        "id": "QOJdprq3n_N8"
      },
      "source": [
        "# 1번  : 리스트의 삭제 (400,500 삭제 하세요)"
      ]
    },
    {
      "cell_type": "code",
      "metadata": {
        "colab": {
          "base_uri": "https://localhost:8080/"
        },
        "id": "3dQM9TpXmjGd",
        "outputId": "2e5a387e-52ba-4420-82e4-3c3210b32c81"
      },
      "source": [
        "nums = [100, 200, 300, 400, 500]\n",
        "\n",
        "# del nums[3] -> 리스트의 3번 요소를 삭제\n",
        "\n",
        "# nums = nums[:3] -> 3번째까지 슬라이싱\n",
        "\n",
        "#print(dir(nums)) -> nums에 사용할 수 있는 메소드 보여\n",
        "\n",
        "nums.pop()\n",
        "nums.pop()\n",
        "nums"
      ],
      "execution_count": null,
      "outputs": [
        {
          "output_type": "execute_result",
          "data": {
            "text/plain": [
              "[100, 200, 300]"
            ]
          },
          "metadata": {},
          "execution_count": 3
        }
      ]
    },
    {
      "cell_type": "markdown",
      "metadata": {
        "id": "SpO2BKkgoBu3"
      },
      "source": [
        "# 2번 : 리스트 내장함수 insert를 이용해서 [200, 100, 10000, 300] 출력"
      ]
    },
    {
      "cell_type": "code",
      "metadata": {
        "colab": {
          "base_uri": "https://localhost:8080/"
        },
        "id": "jatrDuWNnrMd",
        "outputId": "f4ed445a-6671-41d7-e15f-9fc97280d410"
      },
      "source": [
        "l = [200, 100, 300]\n",
        "\n",
        "l.insert(2, 10000) # 2번째에 10000을 삽입\n",
        "\n",
        "print(l)"
      ],
      "execution_count": null,
      "outputs": [
        {
          "output_type": "stream",
          "name": "stdout",
          "text": [
            "[200, 100, 10000, 300]\n"
          ]
        }
      ]
    },
    {
      "cell_type": "markdown",
      "metadata": {
        "id": "9jH1hChnojVv"
      },
      "source": [
        "# 3번 : 변수의 type 확인"
      ]
    },
    {
      "cell_type": "code",
      "metadata": {
        "colab": {
          "base_uri": "https://localhost:8080/"
        },
        "id": "z6VSeFTooMJQ",
        "outputId": "c87025f4-0203-46ce-d7bc-739ce02fb2c0"
      },
      "source": [
        "l = [100, 200, 300]\n",
        "print(type(l))\n",
        "# print(dir(l))"
      ],
      "execution_count": null,
      "outputs": [
        {
          "output_type": "stream",
          "name": "stdout",
          "text": [
            "<class 'list'>\n"
          ]
        }
      ]
    },
    {
      "cell_type": "markdown",
      "metadata": {
        "id": "jlRVFr7qpCzB"
      },
      "source": [
        "# 4번 : 변수의 타입 2"
      ]
    },
    {
      "cell_type": "code",
      "metadata": {
        "colab": {
          "base_uri": "https://localhost:8080/"
        },
        "id": "7-8Dt_5Qow3_",
        "outputId": "21e62353-2491-4f0d-c522-9b4e36cd1bc0"
      },
      "source": [
        "a = '''hello world'''\n",
        "\n",
        "### 주석도 string type\n",
        "\n",
        "print(type(a))"
      ],
      "execution_count": null,
      "outputs": [
        {
          "output_type": "stream",
          "name": "stdout",
          "text": [
            "<class 'str'>\n"
          ]
        }
      ]
    },
    {
      "cell_type": "code",
      "metadata": {
        "colab": {
          "base_uri": "https://localhost:8080/",
          "height": 35
        },
        "id": "NDSOb4FtpKeW",
        "outputId": "0f13c8bb-3d8c-4f2e-a42f-dcbcec4840a2"
      },
      "source": [
        "a"
      ],
      "execution_count": null,
      "outputs": [
        {
          "output_type": "execute_result",
          "data": {
            "application/vnd.google.colaboratory.intrinsic+json": {
              "type": "string"
            },
            "text/plain": [
              "'hello world'"
            ]
          },
          "metadata": {
            "tags": []
          },
          "execution_count": 10
        }
      ]
    },
    {
      "cell_type": "markdown",
      "metadata": {
        "id": "gVkpwnB6pUG_"
      },
      "source": [
        "# 5번 : for문 계산"
      ]
    },
    {
      "cell_type": "code",
      "metadata": {
        "colab": {
          "base_uri": "https://localhost:8080/"
        },
        "id": "_f4vYGrtpPDR",
        "outputId": "0b708bbc-3ece-4082-bc75-06b12458f87f"
      },
      "source": [
        "a = 10\n",
        "b = 2\n",
        "for i in range(1, 5, 2):\n",
        "    a += i\n",
        "\n",
        "print(a + b)"
      ],
      "execution_count": null,
      "outputs": [
        {
          "output_type": "stream",
          "name": "stdout",
          "text": [
            "16\n"
          ]
        }
      ]
    },
    {
      "cell_type": "markdown",
      "metadata": {
        "id": "J7yMEOL7qofx"
      },
      "source": [
        "# 6번 : False (None, [], \"\", 0, bool(0))\n"
      ]
    },
    {
      "cell_type": "code",
      "metadata": {
        "colab": {
          "base_uri": "https://localhost:8080/"
        },
        "id": "V8pFqtw2qrBY",
        "outputId": "2212421c-3a7a-4595-d9e2-b2350121d32f"
      },
      "source": [
        "print(bool(\" \")) # 공백이 들어가있으면 True\n",
        "print(bool(\"\"))\n",
        "print(bool([\"\", \"\"]))\n",
        "print(bool([]))\n",
        "print(bool(None))"
      ],
      "execution_count": null,
      "outputs": [
        {
          "output_type": "stream",
          "name": "stdout",
          "text": [
            "True\n",
            "False\n",
            "True\n",
            "False\n",
            "False\n"
          ]
        }
      ]
    },
    {
      "cell_type": "markdown",
      "metadata": {
        "id": "OJPg8vVdrIlF"
      },
      "source": [
        "# 7번 : 변수명 (숫자가 맨앞에 오거나, 특수기호가 맨 앞이면 사용 불가, 띄어쓰기 X)"
      ]
    },
    {
      "cell_type": "code",
      "metadata": {
        "colab": {
          "base_uri": "https://localhost:8080/"
        },
        "id": "vL7IrVuNq6SJ",
        "outputId": "b07bd74d-7bfd-494a-f410-a65ed12c90af"
      },
      "source": [
        "한글 = 100\n",
        "한글"
      ],
      "execution_count": null,
      "outputs": [
        {
          "output_type": "execute_result",
          "data": {
            "text/plain": [
              "100"
            ]
          },
          "metadata": {
            "tags": []
          },
          "execution_count": 14
        }
      ]
    },
    {
      "cell_type": "code",
      "metadata": {
        "id": "4moM5JEprQr4"
      },
      "source": [
        "# 스네이크표기법\n",
        "beautiful_is_better_than_ugly = 100\n",
        "\n",
        "# 카멜표기법\n",
        "beautifulIsBetterThanUgly = 100"
      ],
      "execution_count": null,
      "outputs": []
    },
    {
      "cell_type": "markdown",
      "metadata": {
        "id": "5S3QaeCvSKzE"
      },
      "source": [
        "# 8번 : 딕셔너리 키 이름 중복\n"
      ]
    },
    {
      "cell_type": "code",
      "metadata": {
        "colab": {
          "base_uri": "https://localhost:8080/"
        },
        "id": "wDogxnf0SL2I",
        "outputId": "4fb094a5-922c-4548-9c4d-fb23093d3100"
      },
      "source": [
        "\n",
        "d = {'height':180, 'weight':78, 'weight':84, 'temparture':36, 'eyesight':1}\n",
        "\n",
        "print(d['weight'])"
      ],
      "execution_count": null,
      "outputs": [
        {
          "output_type": "stream",
          "name": "stdout",
          "text": [
            "84\n"
          ]
        }
      ]
    },
    {
      "cell_type": "code",
      "metadata": {
        "colab": {
          "base_uri": "https://localhost:8080/"
        },
        "id": "HwJnzvtkSTeE",
        "outputId": "56ce1146-0b3c-46fb-f7f5-471bc13edbee"
      },
      "source": [
        "# 입력한 순서로 출력 (코랩)\n",
        "print(d)"
      ],
      "execution_count": null,
      "outputs": [
        {
          "output_type": "stream",
          "name": "stdout",
          "text": [
            "{'height': 180, 'weight': 84, 'temparture': 36, 'eyesight': 1}\n"
          ]
        }
      ]
    },
    {
      "cell_type": "code",
      "metadata": {
        "colab": {
          "base_uri": "https://localhost:8080/"
        },
        "id": "yBjsvjiESZ07",
        "outputId": "f5e61c7d-753e-48f5-8a4f-79dedfc6fe41"
      },
      "source": [
        "# 알파벳 순서로 출력 (코랩 버전에 따라서)\n",
        "d"
      ],
      "execution_count": null,
      "outputs": [
        {
          "output_type": "execute_result",
          "data": {
            "text/plain": [
              "{'height': 180, 'weight': 84, 'temparture': 36, 'eyesight': 1}"
            ]
          },
          "metadata": {},
          "execution_count": 14
        }
      ]
    },
    {
      "cell_type": "code",
      "metadata": {
        "colab": {
          "base_uri": "https://localhost:8080/"
        },
        "id": "4Z9k8xs7SajQ",
        "outputId": "94ec9d5c-2fdd-46a4-ed20-9c5d54300d40"
      },
      "source": [
        "# 파이썬 코랩 버전\n",
        "!python -V"
      ],
      "execution_count": null,
      "outputs": [
        {
          "output_type": "stream",
          "name": "stdout",
          "text": [
            "Python 3.10.12\n"
          ]
        }
      ]
    },
    {
      "cell_type": "code",
      "metadata": {
        "colab": {
          "base_uri": "https://localhost:8080/"
        },
        "id": "717LQHExSr56",
        "outputId": "8e2ce5eb-36c1-48da-f619-2db967daf5b9"
      },
      "source": [
        "d['weight'] = 1000\n",
        "print(d)"
      ],
      "execution_count": null,
      "outputs": [
        {
          "output_type": "stream",
          "name": "stdout",
          "text": [
            "{'height': 180, 'weight': 1000, 'temparture': 36, 'eyesight': 1, 'aa': 1000}\n"
          ]
        }
      ]
    },
    {
      "cell_type": "code",
      "metadata": {
        "colab": {
          "base_uri": "https://localhost:8080/"
        },
        "id": "OtrhkAnzS1_u",
        "outputId": "3522536a-49e7-4c16-fbf4-b4e527b8186f"
      },
      "source": [
        "d['aa'] = 1000\n",
        "print(d)"
      ],
      "execution_count": null,
      "outputs": [
        {
          "output_type": "stream",
          "name": "stdout",
          "text": [
            "{'height': 180, 'weight': 1000, 'temparture': 36, 'eyesight': 1, 'aa': 1000}\n"
          ]
        }
      ]
    },
    {
      "cell_type": "code",
      "metadata": {
        "colab": {
          "base_uri": "https://localhost:8080/"
        },
        "id": "84QeY-AlS7FB",
        "outputId": "4772e0ac-34ce-48a5-ed72-c58a73c5d655"
      },
      "source": [
        "d['bb'] = 1000\n",
        "print(d)"
      ],
      "execution_count": null,
      "outputs": [
        {
          "output_type": "stream",
          "name": "stdout",
          "text": [
            "{'height': 180, 'weight': 1000, 'temparture': 36, 'eyesight': 1, 'aa': 1000, 'bb': 1000}\n"
          ]
        }
      ]
    },
    {
      "cell_type": "code",
      "metadata": {
        "colab": {
          "base_uri": "https://localhost:8080/"
        },
        "id": "qSsNCr_xS-u_",
        "outputId": "f835b64b-a90c-41ca-de04-b16db7cb16b8"
      },
      "source": [
        "for i in d:\n",
        "    print(i)"
      ],
      "execution_count": null,
      "outputs": [
        {
          "output_type": "stream",
          "name": "stdout",
          "text": [
            "height\n",
            "weight\n",
            "temparture\n",
            "eyesight\n",
            "aa\n",
            "bb\n"
          ]
        }
      ]
    },
    {
      "cell_type": "markdown",
      "metadata": {
        "id": "_F5FwqFVTI2x"
      },
      "source": [
        "# 9번"
      ]
    },
    {
      "cell_type": "code",
      "metadata": {
        "colab": {
          "base_uri": "https://localhost:8080/"
        },
        "id": "cL6z-0rmTKNk",
        "outputId": "b874b826-6c0b-4146-9471-2d01b5d25829"
      },
      "source": [
        "year = '2019'\n",
        "month = '04'\n",
        "day = '26'\n",
        "hour = '11'\n",
        "minute = '34'\n",
        "second = '27'\n",
        "\n",
        "print(year, month, day)\n",
        "print(hour, minute, second)"
      ],
      "execution_count": null,
      "outputs": [
        {
          "output_type": "stream",
          "text": [
            "2019 04 26\n",
            "11 34 27\n"
          ],
          "name": "stdout"
        }
      ]
    },
    {
      "cell_type": "code",
      "metadata": {
        "colab": {
          "base_uri": "https://localhost:8080/"
        },
        "id": "xZ9QXXxyTNJ2",
        "outputId": "9fc2bfd3-c6b8-4c1d-f921-c590770654ae"
      },
      "source": [
        "print(year, month, day, end=' ', sep='/')\n",
        "print(hour, minute, second, sep=':')"
      ],
      "execution_count": null,
      "outputs": [
        {
          "output_type": "stream",
          "text": [
            "2019/04/26 11:34:27\n"
          ],
          "name": "stdout"
        }
      ]
    },
    {
      "cell_type": "markdown",
      "metadata": {
        "id": "V7pwyr-vTpHv"
      },
      "source": [
        "# 10번\n",
        "\n",
        "```\n",
        "    *\n",
        "   ***\n",
        "  *****\n",
        " *******\n",
        "*********\n",
        "```"
      ]
    },
    {
      "cell_type": "code",
      "metadata": {
        "colab": {
          "base_uri": "https://localhost:8080/"
        },
        "id": "SGiZczP9TzLB",
        "outputId": "df44f5f3-e3da-4356-aab4-f1d9bb2cb44c"
      },
      "source": [
        "'''\n",
        "4     1\n",
        "3     3\n",
        "2     5\n",
        "1     7\n",
        "0     9\n",
        "n-i   2i-1\n",
        "'''\n",
        "\n",
        "n = 5\n",
        "for i in range(1, n + 1):\n",
        "    #print(n-i, 2*i-1)\n",
        "    print((' ' * (n-i)) + ('*' * (2*i-1)))"
      ],
      "execution_count": null,
      "outputs": [
        {
          "output_type": "stream",
          "text": [
            "    *\n",
            "   ***\n",
            "  *****\n",
            " *******\n",
            "*********\n"
          ],
          "name": "stdout"
        }
      ]
    },
    {
      "cell_type": "markdown",
      "metadata": {
        "id": "8BvQA8c5V8vD"
      },
      "source": [
        "# 11번"
      ]
    },
    {
      "cell_type": "code",
      "metadata": {
        "colab": {
          "base_uri": "https://localhost:8080/"
        },
        "id": "Am6Zp2vWV98r",
        "outputId": "aa702730-60f5-4c4d-f332-026e8658f5be"
      },
      "source": [
        "s = 0\n",
        "\n",
        "for i in range(1, 101):\n",
        "    s += i\n",
        "\n",
        "print(s)"
      ],
      "execution_count": null,
      "outputs": [
        {
          "output_type": "stream",
          "text": [
            "5050\n"
          ],
          "name": "stdout"
        }
      ]
    },
    {
      "cell_type": "code",
      "metadata": {
        "colab": {
          "base_uri": "https://localhost:8080/"
        },
        "id": "zPfkLoebWSoO",
        "outputId": "b8df2a27-ff20-4e49-eb55-562521478613"
      },
      "source": [
        "'''\n",
        "100 99  98  97  96 ...\n",
        "1   2   3   4   5  ...\n",
        "101 101 101 101 101 ...\n",
        "'''\n",
        "#n*(n+1)/2\n",
        "100*(100+1)/2"
      ],
      "execution_count": null,
      "outputs": [
        {
          "output_type": "execute_result",
          "data": {
            "text/plain": [
              "5050.0"
            ]
          },
          "metadata": {
            "tags": []
          },
          "execution_count": 42
        }
      ]
    },
    {
      "cell_type": "code",
      "metadata": {
        "colab": {
          "base_uri": "https://localhost:8080/"
        },
        "id": "huKl6THwW0eP",
        "outputId": "995921aa-1641-4485-8a31-e1d2d1092d9d"
      },
      "source": [
        "type(range(10))\n",
        "# range(start, stop, step)\n",
        "print(list(range(10)))\n",
        "print(list(range(5, 10)))\n",
        "print(list(range(1, 10, 2)))\n",
        "print(list(range(20, 10, -2)))\n",
        "print(list(range(-10, 10, 2)))\n",
        "print(list(range(1, 10, 2)))"
      ],
      "execution_count": null,
      "outputs": [
        {
          "output_type": "stream",
          "text": [
            "[0, 1, 2, 3, 4, 5, 6, 7, 8, 9]\n",
            "[5, 6, 7, 8, 9]\n",
            "[1, 3, 5, 7, 9]\n",
            "[20, 18, 16, 14, 12]\n",
            "[-10, -8, -6, -4, -2, 0, 2, 4, 6, 8]\n",
            "[1, 3, 5, 7, 9]\n"
          ],
          "name": "stdout"
        }
      ]
    },
    {
      "cell_type": "markdown",
      "metadata": {
        "id": "mNlkCem-X-k1"
      },
      "source": [
        "# 12번"
      ]
    },
    {
      "cell_type": "code",
      "metadata": {
        "colab": {
          "base_uri": "https://localhost:8080/"
        },
        "id": "SL73ZfcDXnPT",
        "outputId": "735aaf9c-3bf1-470e-d9f5-ba7551a890ff"
      },
      "source": [
        "class Wizard:\n",
        "    def __init__(self, health, mana, armor):\n",
        "        self.health = health\n",
        "        self.mana = mana\n",
        "        self.armor = armor\n",
        "\n",
        "    def __str__(self):\n",
        "        return 'hello world'\n",
        "\n",
        "    def attack(self):\n",
        "        print('파이어볼')\n",
        "\n",
        "\n",
        "x = Wizard(health = 545, mana = 210, armor = 10)\n",
        "print(x.health, x.mana, x.armor)\n",
        "x.attack()"
      ],
      "execution_count": null,
      "outputs": [
        {
          "output_type": "stream",
          "text": [
            "545 210 10\n",
            "파이어볼\n"
          ],
          "name": "stdout"
        }
      ]
    },
    {
      "cell_type": "code",
      "metadata": {
        "colab": {
          "base_uri": "https://localhost:8080/"
        },
        "id": "CSdTWkNGYpln",
        "outputId": "c37618ff-b293-4793-b560-3ccbb9ee92bc"
      },
      "source": [
        "print(type(x))\n",
        "print(dir(x))\n",
        "print(x)"
      ],
      "execution_count": null,
      "outputs": [
        {
          "output_type": "stream",
          "text": [
            "<class '__main__.Wizard'>\n",
            "['__class__', '__delattr__', '__dict__', '__dir__', '__doc__', '__eq__', '__format__', '__ge__', '__getattribute__', '__gt__', '__hash__', '__init__', '__init_subclass__', '__le__', '__lt__', '__module__', '__ne__', '__new__', '__reduce__', '__reduce_ex__', '__repr__', '__setattr__', '__sizeof__', '__str__', '__subclasshook__', '__weakref__', 'armor', 'attack', 'health', 'mana']\n",
            "hello world\n"
          ],
          "name": "stdout"
        }
      ]
    },
    {
      "cell_type": "markdown",
      "metadata": {
        "id": "88rfffpJyMTg"
      },
      "source": [
        "# 13번"
      ]
    },
    {
      "cell_type": "code",
      "metadata": {
        "id": "wjy8bbhwYxpz",
        "colab": {
          "base_uri": "https://localhost:8080/",
          "height": 256
        },
        "outputId": "7c5e9178-6211-46e3-c234-78aae2c38b1d"
      },
      "source": [
        "행성 = ['수성', '금성', '지구', '화성', '목성', '토성', '천왕성', '해왕성']\n",
        "사용자입력 = input('n번째 행성을 입력하세요.')\n",
        "if 사용자입력.isnumeric():\n",
        "    사용자입력 = int(사용자입력)\n",
        "    if 사용자입력 >= 1:\n",
        "        if 사용자입력 <= 8:\n",
        "            print(행성[사용자입력-1])\n",
        "        else:\n",
        "            print('총 8개의 행성밖에 없습니다.')\n",
        "    elif 사용자입력 == 0:\n",
        "        print('0번째 행성은 없습니다.')\n",
        "    else:\n",
        "        print(행성[사용자입력])\n",
        "else:\n",
        "    print('숫자를 입력해주세요.')"
      ],
      "execution_count": null,
      "outputs": [
        {
          "output_type": "stream",
          "text": [
            "n번째 행성을 입력하세요.20\n"
          ],
          "name": "stdout"
        },
        {
          "output_type": "error",
          "ename": "IndexError",
          "evalue": "ignored",
          "traceback": [
            "\u001b[0;31m---------------------------------------------------------------------------\u001b[0m",
            "\u001b[0;31mIndexError\u001b[0m                                Traceback (most recent call last)",
            "\u001b[0;32m<ipython-input-10-7935fa553a4b>\u001b[0m in \u001b[0;36m<module>\u001b[0;34m()\u001b[0m\n\u001b[1;32m      4\u001b[0m     \u001b[0m사용자입력\u001b[0m \u001b[0;34m=\u001b[0m \u001b[0mint\u001b[0m\u001b[0;34m(\u001b[0m\u001b[0m사용자입력\u001b[0m\u001b[0;34m)\u001b[0m\u001b[0;34m\u001b[0m\u001b[0;34m\u001b[0m\u001b[0m\n\u001b[1;32m      5\u001b[0m     \u001b[0;32mif\u001b[0m \u001b[0m사용자입력\u001b[0m \u001b[0;34m>=\u001b[0m \u001b[0;36m1\u001b[0m\u001b[0;34m:\u001b[0m\u001b[0;34m\u001b[0m\u001b[0;34m\u001b[0m\u001b[0m\n\u001b[0;32m----> 6\u001b[0;31m         \u001b[0mprint\u001b[0m\u001b[0;34m(\u001b[0m\u001b[0m행성\u001b[0m\u001b[0;34m[\u001b[0m\u001b[0m사용자입력\u001b[0m\u001b[0;34m-\u001b[0m\u001b[0;36m1\u001b[0m\u001b[0;34m]\u001b[0m\u001b[0;34m)\u001b[0m\u001b[0;34m\u001b[0m\u001b[0;34m\u001b[0m\u001b[0m\n\u001b[0m\u001b[1;32m      7\u001b[0m     \u001b[0;32melif\u001b[0m \u001b[0m사용자입력\u001b[0m \u001b[0;34m==\u001b[0m \u001b[0;36m0\u001b[0m\u001b[0;34m:\u001b[0m\u001b[0;34m\u001b[0m\u001b[0;34m\u001b[0m\u001b[0m\n\u001b[1;32m      8\u001b[0m         \u001b[0mprint\u001b[0m\u001b[0;34m(\u001b[0m\u001b[0;34m'0번째 행성은 없습니다.'\u001b[0m\u001b[0;34m)\u001b[0m\u001b[0;34m\u001b[0m\u001b[0;34m\u001b[0m\u001b[0m\n",
            "\u001b[0;31mIndexError\u001b[0m: list index out of range"
          ]
        }
      ]
    },
    {
      "cell_type": "code",
      "metadata": {
        "colab": {
          "base_uri": "https://localhost:8080/",
          "height": 35
        },
        "id": "HKh5jteF_POD",
        "outputId": "e94d324d-e8e1-4894-a95b-8dcb0ac155c4"
      },
      "source": [
        "행성[-1]"
      ],
      "execution_count": null,
      "outputs": [
        {
          "output_type": "execute_result",
          "data": {
            "application/vnd.google.colaboratory.intrinsic+json": {
              "type": "string"
            },
            "text/plain": [
              "'해왕성'"
            ]
          },
          "metadata": {},
          "execution_count": 2
        }
      ]
    },
    {
      "cell_type": "code",
      "metadata": {
        "colab": {
          "base_uri": "https://localhost:8080/"
        },
        "id": "dDa_P43S_xu1",
        "outputId": "fb66b974-5eca-413c-f2e3-c7d20b802b76"
      },
      "source": [
        "dir('abc')\n",
        "'abc'.isnumeric()\n",
        "'123'.isnumeric()"
      ],
      "execution_count": null,
      "outputs": [
        {
          "output_type": "execute_result",
          "data": {
            "text/plain": [
              "True"
            ]
          },
          "metadata": {},
          "execution_count": 9
        }
      ]
    },
    {
      "cell_type": "markdown",
      "metadata": {
        "id": "PFisnWIYBOIt"
      },
      "source": [
        "# 14번"
      ]
    },
    {
      "cell_type": "code",
      "metadata": {
        "colab": {
          "base_uri": "https://localhost:8080/"
        },
        "id": "1ZdQMzbdBPIh",
        "outputId": "4a7c1369-952c-4198-c144-867ae03bec5d"
      },
      "source": [
        "try:\n",
        "    n = input('숫자를 입력하세요 : ')\n",
        "    if '3' in n:\n",
        "        print('짝')\n",
        "    else:\n",
        "        print(n)\n",
        "except:\n",
        "    print('숫자를 입력해주세요!')"
      ],
      "execution_count": null,
      "outputs": [
        {
          "output_type": "stream",
          "text": [
            "숫자를 입력하세요 : 11\n",
            "11\n"
          ],
          "name": "stdout"
        }
      ]
    },
    {
      "cell_type": "code",
      "metadata": {
        "colab": {
          "base_uri": "https://localhost:8080/"
        },
        "id": "w-4IDv00D0Im",
        "outputId": "56ac368f-61eb-4100-e6d2-8493cf83278f"
      },
      "source": [
        "30 in [10, 20, 30]"
      ],
      "execution_count": null,
      "outputs": [
        {
          "output_type": "execute_result",
          "data": {
            "text/plain": [
              "True"
            ]
          },
          "metadata": {},
          "execution_count": 17
        }
      ]
    },
    {
      "cell_type": "markdown",
      "metadata": {
        "id": "cJLO5NTxE80s"
      },
      "source": [
        "# 15번"
      ]
    },
    {
      "cell_type": "code",
      "metadata": {
        "colab": {
          "base_uri": "https://localhost:8080/"
        },
        "id": "TyoKMa4rE99M",
        "outputId": "0b89e1f0-3ea0-436b-f512-2641f06b1c36"
      },
      "source": [
        "name = input('이름을 입력하세요 :')\n",
        "age = 10\n",
        "\n",
        "print('안녕하세요. 저는 ', name, '입니다.')\n",
        "print('안녕하세요. 저는 {0}입니다. 제 나이는 {0}입니다.'.format(name, age))\n",
        "print(f'안녕하세요. 저는 {name}입니다. 제 나이는 {age+age}입니다.')"
      ],
      "execution_count": null,
      "outputs": [
        {
          "output_type": "stream",
          "text": [
            "이름을 입력하세요 :이호준\n",
            "안녕하세요. 저는 이호준입니다.\n"
          ],
          "name": "stdout"
        }
      ]
    },
    {
      "cell_type": "markdown",
      "metadata": {
        "id": "A4Q8VmVjF9Om"
      },
      "source": [
        "# 16번"
      ]
    },
    {
      "cell_type": "code",
      "metadata": {
        "colab": {
          "base_uri": "https://localhost:8080/"
        },
        "id": "G9HUbwAYF-kG",
        "outputId": "c26f004f-632f-40e7-83ec-7265be818b49"
      },
      "source": [
        "문자열 = input()\n",
        "\n",
        "print(문자열[::-1])"
      ],
      "execution_count": null,
      "outputs": [
        {
          "output_type": "stream",
          "name": "stdout",
          "text": [
            "abc\n",
            "cba\n"
          ]
        }
      ]
    },
    {
      "cell_type": "code",
      "metadata": {
        "colab": {
          "base_uri": "https://localhost:8080/",
          "height": 90
        },
        "id": "nyYZVmmtGin4",
        "outputId": "a6af2484-4dfa-4e5d-edd2-32e5f3861611"
      },
      "source": [
        "s = ''\n",
        "for i in 문자열:\n",
        "    s = i + s\n",
        "    print(s)\n",
        "\n",
        "s\n",
        "s.strip()"
      ],
      "execution_count": null,
      "outputs": [
        {
          "output_type": "stream",
          "name": "stdout",
          "text": [
            "a\n",
            "ba\n",
            "cba\n"
          ]
        },
        {
          "output_type": "execute_result",
          "data": {
            "text/plain": [
              "'cba'"
            ],
            "application/vnd.google.colaboratory.intrinsic+json": {
              "type": "string"
            }
          },
          "metadata": {},
          "execution_count": 6
        }
      ]
    },
    {
      "cell_type": "code",
      "metadata": {
        "colab": {
          "base_uri": "https://localhost:8080/",
          "height": 35
        },
        "id": "H1A3kXHAGv1h",
        "outputId": "d052e524-7cc5-4e51-cd1a-2252f97184b4"
      },
      "source": [
        "def 거꾸로(s):\n",
        "    if len(s) == 1:\n",
        "        return s\n",
        "    else:\n",
        "        return s[0] + 거꾸로(s[1:])\n",
        "\n",
        "거꾸로(문자열)\n",
        "'''\n",
        "거꾸로('abc')       'a' + 거꾸로('bc')   'a' + 'b' + 'c'\n",
        "거꾸로('bc')        'b' + 거꾸로('c')    'b' + 'c'\n",
        "거꾸로('c')         'c'\n",
        "거꾸로('abc')       거꾸로('bc') + 'a'   'c' + 'b' + 'a'\n",
        "거꾸로('bc')        거꾸로('c') + 'b'    'c' + 'b'\n",
        "거꾸로('c')         'c'\n",
        "'''"
      ],
      "execution_count": null,
      "outputs": [
        {
          "output_type": "execute_result",
          "data": {
            "application/vnd.google.colaboratory.intrinsic+json": {
              "type": "string"
            },
            "text/plain": [
              "'cba'"
            ]
          },
          "metadata": {},
          "execution_count": 24
        }
      ]
    },
    {
      "cell_type": "markdown",
      "metadata": {
        "id": "-EN3HosrIinG"
      },
      "source": [
        "# 17번"
      ]
    },
    {
      "cell_type": "code",
      "metadata": {
        "colab": {
          "base_uri": "https://localhost:8080/"
        },
        "id": "jM_ABYDzIkif",
        "outputId": "43e4ea67-fe89-454e-c22c-41b98d53e1e4"
      },
      "source": [
        "try:\n",
        "    키 = int(input())\n",
        "    if 키 >= 150:\n",
        "        print('YES')\n",
        "    else:\n",
        "        print('NO')\n",
        "except:\n",
        "    print('숫자를 입력하세요!')"
      ],
      "execution_count": null,
      "outputs": [
        {
          "output_type": "stream",
          "text": [
            "160\n",
            "YES\n"
          ],
          "name": "stdout"
        }
      ]
    },
    {
      "cell_type": "markdown",
      "metadata": {
        "id": "l7RY9mT7K5i1"
      },
      "source": [
        "# 18번"
      ]
    },
    {
      "cell_type": "code",
      "metadata": {
        "colab": {
          "base_uri": "https://localhost:8080/"
        },
        "id": "v5zwovWnK7hX",
        "outputId": "18c31c11-5492-420a-b148-0aa18c52adb5"
      },
      "source": [
        "data = sum(list(map(int, input().split())))//3\n",
        "data"
      ],
      "execution_count": null,
      "outputs": [
        {
          "output_type": "stream",
          "text": [
            "10 20 30\n"
          ],
          "name": "stdout"
        },
        {
          "output_type": "execute_result",
          "data": {
            "text/plain": [
              "20"
            ]
          },
          "metadata": {},
          "execution_count": 32
        }
      ]
    },
    {
      "cell_type": "code",
      "metadata": {
        "colab": {
          "base_uri": "https://localhost:8080/"
        },
        "id": "zC_a7K87LiAu",
        "outputId": "dcc1df54-8a39-4922-9458-ab1aa059d0f0"
      },
      "source": [
        "list(map(lambda x:x**2, [10, 20, 30]))"
      ],
      "execution_count": null,
      "outputs": [
        {
          "output_type": "execute_result",
          "data": {
            "text/plain": [
              "[100, 400, 900]"
            ]
          },
          "metadata": {},
          "execution_count": 30
        }
      ]
    },
    {
      "cell_type": "code",
      "metadata": {
        "colab": {
          "base_uri": "https://localhost:8080/"
        },
        "id": "TSWgNMftL4YK",
        "outputId": "f03ac199-599c-4373-9ad5-e7defce6e234"
      },
      "source": [
        "def 제곱(x):\n",
        "    return x**2\n",
        "\n",
        "list(map(제곱, [10, 20, 30]))"
      ],
      "execution_count": null,
      "outputs": [
        {
          "output_type": "execute_result",
          "data": {
            "text/plain": [
              "[100, 400, 900]"
            ]
          },
          "metadata": {},
          "execution_count": 33
        }
      ]
    },
    {
      "cell_type": "markdown",
      "metadata": {
        "id": "7sZka57PMSlU"
      },
      "source": [
        "# 19번"
      ]
    },
    {
      "cell_type": "code",
      "metadata": {
        "colab": {
          "base_uri": "https://localhost:8080/"
        },
        "id": "mCAlvsofMUBA",
        "outputId": "001b4cea-db22-4208-c53b-1dd77c8b7c45"
      },
      "source": [
        "data = list(map(float, input().split()))\n",
        "data[0] ** data[1]"
      ],
      "execution_count": null,
      "outputs": [
        {
          "output_type": "stream",
          "text": [
            "2.3 3\n"
          ],
          "name": "stdout"
        },
        {
          "output_type": "execute_result",
          "data": {
            "text/plain": [
              "12.166999999999998"
            ]
          },
          "metadata": {},
          "execution_count": 35
        }
      ]
    },
    {
      "cell_type": "markdown",
      "metadata": {
        "id": "IEwWOSXWOrpk"
      },
      "source": [
        "# 20번"
      ]
    },
    {
      "cell_type": "code",
      "metadata": {
        "colab": {
          "base_uri": "https://localhost:8080/"
        },
        "id": "2Dhyn_JWOtd9",
        "outputId": "c766ac6c-4f4e-402c-e806-fa1c93084b77"
      },
      "source": [
        "data = list(map(float, input().split()))\n",
        "\n",
        "data[0] // data[1], data[0] % data[1]"
      ],
      "execution_count": null,
      "outputs": [
        {
          "name": "stdout",
          "output_type": "stream",
          "text": [
            "8 2\n"
          ]
        },
        {
          "output_type": "execute_result",
          "data": {
            "text/plain": [
              "(4.0, 0.0)"
            ]
          },
          "metadata": {},
          "execution_count": 11
        }
      ]
    },
    {
      "cell_type": "code",
      "source": [
        "data = list(map(float, input().split()))\n",
        "\n",
        "a = data[0] // data[1]\n",
        "b = data[0] % data[1]\n",
        "\n",
        "print(a,b)"
      ],
      "metadata": {
        "colab": {
          "base_uri": "https://localhost:8080/"
        },
        "id": "9wCGJMm61PPi",
        "outputId": "5a46c344-e42a-4ae7-cb7b-8a69950f017c"
      },
      "execution_count": null,
      "outputs": [
        {
          "output_type": "stream",
          "name": "stdout",
          "text": [
            "8 3\n",
            "2.0 2.0\n"
          ]
        }
      ]
    },
    {
      "cell_type": "code",
      "metadata": {
        "colab": {
          "base_uri": "https://localhost:8080/"
        },
        "id": "EBuaojrxO7rl",
        "outputId": "d1a4ad9d-d125-4556-eeb4-e8a487be72f0"
      },
      "source": [
        "divmod(data[0], data[1])"
      ],
      "execution_count": null,
      "outputs": [
        {
          "output_type": "execute_result",
          "data": {
            "text/plain": [
              "(5.0, 0.0)"
            ]
          },
          "metadata": {},
          "execution_count": 37
        }
      ]
    },
    {
      "cell_type": "markdown",
      "metadata": {
        "id": "fkKrUN7OQYta"
      },
      "source": [
        "# 21번"
      ]
    },
    {
      "cell_type": "code",
      "metadata": {
        "id": "rNUX4PlwRNLx"
      },
      "source": [
        "x = {1, 2, 3, 5, 6, 7}"
      ],
      "execution_count": null,
      "outputs": []
    },
    {
      "cell_type": "code",
      "metadata": {
        "colab": {
          "base_uri": "https://localhost:8080/"
        },
        "id": "NHly5Bv2Rg75",
        "outputId": "5de068f8-43d1-407d-f770-34898b25bad6"
      },
      "source": [
        "type(x)"
      ],
      "execution_count": null,
      "outputs": [
        {
          "output_type": "execute_result",
          "data": {
            "text/plain": [
              "set"
            ]
          },
          "metadata": {},
          "execution_count": 2
        }
      ]
    },
    {
      "cell_type": "code",
      "metadata": {
        "colab": {
          "base_uri": "https://localhost:8080/"
        },
        "id": "RskPnumwRpsi",
        "outputId": "a4707fc2-a655-48df-ad2c-4d98783f9aff"
      },
      "source": [
        "x = {1, 2, 3, 5, 6, 7, 7, 7, 7}\n",
        "x"
      ],
      "execution_count": null,
      "outputs": [
        {
          "output_type": "execute_result",
          "data": {
            "text/plain": [
              "{1, 2, 3, 5, 6, 7}"
            ]
          },
          "metadata": {},
          "execution_count": 3
        }
      ]
    },
    {
      "cell_type": "code",
      "metadata": {
        "colab": {
          "base_uri": "https://localhost:8080/"
        },
        "id": "zxievyItRvbt",
        "outputId": "7bdf5cfb-a564-4551-e9a9-6a41b7b1d33b"
      },
      "source": [
        "a = {1, 2, 3}\n",
        "b = {3, 4, 5}\n",
        "a | b\n",
        "a & b\n",
        "a - b"
      ],
      "execution_count": null,
      "outputs": [
        {
          "output_type": "execute_result",
          "data": {
            "text/plain": [
              "{1, 2}"
            ]
          },
          "metadata": {},
          "execution_count": 6
        }
      ]
    },
    {
      "cell_type": "code",
      "metadata": {
        "id": "AnuSUfN4RWKk"
      },
      "source": [
        "x = {}"
      ],
      "execution_count": null,
      "outputs": []
    },
    {
      "cell_type": "code",
      "metadata": {
        "colab": {
          "base_uri": "https://localhost:8080/"
        },
        "id": "ZMhn4CXJSH2v",
        "outputId": "e48ca11f-58bc-42f7-90c8-1b7a80a65aa2"
      },
      "source": [
        "type(x)"
      ],
      "execution_count": null,
      "outputs": [
        {
          "output_type": "execute_result",
          "data": {
            "text/plain": [
              "dict"
            ]
          },
          "metadata": {},
          "execution_count": 8
        }
      ]
    },
    {
      "cell_type": "code",
      "metadata": {
        "colab": {
          "base_uri": "https://localhost:8080/"
        },
        "id": "kiL3HCaURXhb",
        "outputId": "a2561738-fd06-4bd2-9651-4890b7319d5e"
      },
      "source": [
        "x = set('python')\n",
        "x"
      ],
      "execution_count": null,
      "outputs": [
        {
          "output_type": "execute_result",
          "data": {
            "text/plain": [
              "{'h', 'n', 'o', 'p', 't', 'y'}"
            ]
          },
          "metadata": {},
          "execution_count": 9
        }
      ]
    },
    {
      "cell_type": "code",
      "metadata": {
        "colab": {
          "base_uri": "https://localhost:8080/"
        },
        "id": "nN-GBMmHRYQl",
        "outputId": "d381fe51-eac9-4559-bf66-33a329e9a030"
      },
      "source": [
        "x = set(range(5))\n",
        "x"
      ],
      "execution_count": null,
      "outputs": [
        {
          "output_type": "execute_result",
          "data": {
            "text/plain": [
              "{0, 1, 2, 3, 4}"
            ]
          },
          "metadata": {},
          "execution_count": 10
        }
      ]
    },
    {
      "cell_type": "code",
      "metadata": {
        "colab": {
          "base_uri": "https://localhost:8080/"
        },
        "id": "PHkWLm1vRYok",
        "outputId": "aa62ea7d-f0e8-42ae-fed7-619a255450c9"
      },
      "source": [
        "x = set()\n",
        "type(x)"
      ],
      "execution_count": null,
      "outputs": [
        {
          "output_type": "execute_result",
          "data": {
            "text/plain": [
              "set"
            ]
          },
          "metadata": {},
          "execution_count": 14
        }
      ]
    },
    {
      "cell_type": "code",
      "source": [],
      "metadata": {
        "id": "XHe-bow_HZNI"
      },
      "execution_count": null,
      "outputs": []
    },
    {
      "cell_type": "markdown",
      "source": [
        "### 파이썬은 사칙연산은 무조건 실수로 반환함"
      ],
      "metadata": {
        "id": "TomUSo-IHbDi"
      }
    },
    {
      "cell_type": "code",
      "source": [
        "print(10/2)"
      ],
      "metadata": {
        "colab": {
          "base_uri": "https://localhost:8080/"
        },
        "id": "aGyLQFLzHNjn",
        "outputId": "19bf43a5-b7c1-46f7-ac4f-17e9b64cad00"
      },
      "execution_count": null,
      "outputs": [
        {
          "output_type": "stream",
          "name": "stdout",
          "text": [
            "5.0\n"
          ]
        }
      ]
    },
    {
      "cell_type": "markdown",
      "metadata": {
        "id": "S8xwH_veS98v"
      },
      "source": [
        "# 24번"
      ]
    },
    {
      "cell_type": "code",
      "metadata": {
        "colab": {
          "base_uri": "https://localhost:8080/"
        },
        "id": "SVL1oXk2S4_k",
        "outputId": "758c722e-9640-4037-f3f5-845c6c956154"
      },
      "source": [
        "name = input('이름을 입력하세요 : ')\n",
        "print(name.upper())"
      ],
      "execution_count": null,
      "outputs": [
        {
          "output_type": "stream",
          "text": [
            "이름을 입력하세요 : leehojun\n",
            "LEEHOJUN\n"
          ],
          "name": "stdout"
        }
      ]
    },
    {
      "cell_type": "markdown",
      "source": [
        "### * 문자 <-> 숫자  아스키코드 변환"
      ],
      "metadata": {
        "id": "i-8ZZD7uH7Nk"
      }
    },
    {
      "cell_type": "code",
      "metadata": {
        "colab": {
          "base_uri": "https://localhost:8080/"
        },
        "id": "Xn2qQpAsTfhm",
        "outputId": "c5da774c-24fe-444d-f8c3-0fd909e41be3"
      },
      "source": [
        "print(ord('a'))\n",
        "print(chr(97))\n",
        "print(ord('a') - ord('A'))"
      ],
      "execution_count": null,
      "outputs": [
        {
          "output_type": "stream",
          "name": "stdout",
          "text": [
            "97\n",
            "a\n",
            "32\n"
          ]
        }
      ]
    },
    {
      "cell_type": "code",
      "metadata": {
        "colab": {
          "base_uri": "https://localhost:8080/",
          "height": 35
        },
        "id": "Praw5jbaTD9c",
        "outputId": "4404c4a1-4851-4fa9-e9c1-2fb47ad3fe78"
      },
      "source": [
        "s = ''\n",
        "for i in name:\n",
        "    s += chr(ord(i) - 32)\n",
        "s"
      ],
      "execution_count": null,
      "outputs": [
        {
          "output_type": "execute_result",
          "data": {
            "application/vnd.google.colaboratory.intrinsic+json": {
              "type": "string"
            },
            "text/plain": [
              "'LEEHOJUN'"
            ]
          },
          "metadata": {},
          "execution_count": 17
        }
      ]
    },
    {
      "cell_type": "markdown",
      "metadata": {
        "id": "7JUe9KxKURf2"
      },
      "source": [
        "# 25번"
      ]
    },
    {
      "cell_type": "code",
      "metadata": {
        "colab": {
          "base_uri": "https://localhost:8080/"
        },
        "id": "1nvkNbGSUSgM",
        "outputId": "2b697d8a-8f6e-4730-c402-f9a01727c33b"
      },
      "source": [
        "def 원의넓이(반지름):\n",
        "    return (반지름 ** 2) * 3.14\n",
        "\n",
        "반지름 = float(input('반지름을 입력하세요 :'))\n",
        "원의넓이(반지름)"
      ],
      "execution_count": null,
      "outputs": [
        {
          "output_type": "stream",
          "text": [
            "반지름을 입력하세요 :10\n"
          ],
          "name": "stdout"
        },
        {
          "output_type": "execute_result",
          "data": {
            "text/plain": [
              "314.0"
            ]
          },
          "metadata": {},
          "execution_count": 19
        }
      ]
    },
    {
      "cell_type": "markdown",
      "metadata": {
        "id": "Kpq0n9VMVh1p"
      },
      "source": [
        "# 26번"
      ]
    },
    {
      "cell_type": "code",
      "metadata": {
        "id": "7MlBVZ8nVjPo",
        "colab": {
          "base_uri": "https://localhost:8080/",
          "height": 54
        },
        "outputId": "dbf24643-ba79-4eb0-f63d-1323ecef6303"
      },
      "source": [
        "행성 = {\n",
        "\t'수성' : 'Mercury',\n",
        "\t'금성' : 'Venus',\n",
        "\t'지구' : 'Earth',\n",
        "\t'화성' : 'Mars',\n",
        "\t'목성' : 'Jupiter',\n",
        "\t'토성' : 'Saturn',\n",
        "\t'천왕성' : 'Uranus',\n",
        "\t'해왕성' : 'Neptune',\n",
        "}\n",
        "\n",
        "name = input()\n",
        "행성[name]"
      ],
      "execution_count": null,
      "outputs": [
        {
          "name": "stdout",
          "output_type": "stream",
          "text": [
            "수성\n"
          ]
        },
        {
          "output_type": "execute_result",
          "data": {
            "text/plain": [
              "'Mercury'"
            ],
            "application/vnd.google.colaboratory.intrinsic+json": {
              "type": "string"
            }
          },
          "metadata": {},
          "execution_count": 17
        }
      ]
    },
    {
      "cell_type": "code",
      "metadata": {
        "colab": {
          "base_uri": "https://localhost:8080/",
          "height": 54
        },
        "id": "MrZxUQnoXmVJ",
        "outputId": "f629d8fb-f0cc-40ad-c4db-3f96bf0f7324"
      },
      "source": [
        "name = input()\n",
        "행성.get(name, '값 없음')"
      ],
      "execution_count": null,
      "outputs": [
        {
          "name": "stdout",
          "output_type": "stream",
          "text": [
            "은하수\n"
          ]
        },
        {
          "output_type": "execute_result",
          "data": {
            "text/plain": [
              "'값 없음'"
            ],
            "application/vnd.google.colaboratory.intrinsic+json": {
              "type": "string"
            }
          },
          "metadata": {},
          "execution_count": 20
        }
      ]
    },
    {
      "cell_type": "code",
      "metadata": {
        "colab": {
          "base_uri": "https://localhost:8080/",
          "height": 54
        },
        "id": "k-rzg30iVzMX",
        "outputId": "8f6fc277-08f2-4887-d376-492d9853dd93"
      },
      "source": [
        "행성한글 = ['수성', '금성', '지구',\t'화성',\t'목성',\t'토성', '천왕성', '해왕성']\n",
        "행성영어 = ['Mercury', 'Venus', 'Earth', 'Mars', 'Jupiter', 'Saturn', 'Uranus', 'Neptune']\n",
        "\n",
        "name = input()\n",
        "행성영어[행성한글.index(name)]"
      ],
      "execution_count": null,
      "outputs": [
        {
          "name": "stdout",
          "output_type": "stream",
          "text": [
            "해왕성\n"
          ]
        },
        {
          "output_type": "execute_result",
          "data": {
            "text/plain": [
              "'Neptune'"
            ],
            "application/vnd.google.colaboratory.intrinsic+json": {
              "type": "string"
            }
          },
          "metadata": {},
          "execution_count": 5
        }
      ]
    },
    {
      "cell_type": "code",
      "metadata": {
        "colab": {
          "base_uri": "https://localhost:8080/",
          "height": 53
        },
        "id": "FgiRMLJXYFnt",
        "outputId": "58331e92-17a0-4e15-eb84-3aa76e6e00ee"
      },
      "source": [
        "data = dict(zip(행성한글, 행성영어))\n",
        "\n",
        "name = input()\n",
        "data.get(name, '값 없음')"
      ],
      "execution_count": null,
      "outputs": [
        {
          "output_type": "stream",
          "text": [
            "수성\n"
          ],
          "name": "stdout"
        },
        {
          "output_type": "execute_result",
          "data": {
            "application/vnd.google.colaboratory.intrinsic+json": {
              "type": "string"
            },
            "text/plain": [
              "'Mercury'"
            ]
          },
          "metadata": {},
          "execution_count": 28
        }
      ]
    },
    {
      "cell_type": "markdown",
      "metadata": {
        "id": "qKMcQnK1Y3SS"
      },
      "source": [
        "# 27번"
      ]
    },
    {
      "cell_type": "code",
      "metadata": {
        "colab": {
          "base_uri": "https://localhost:8080/"
        },
        "id": "AEmcNvjzY5QG",
        "outputId": "26e7393a-3298-4ab7-903e-f09bdc0f8a27"
      },
      "source": [
        "keys = input().split()\n",
        "values = map(int, input().split())\n",
        "\n",
        "result = dict(zip(keys, values))\n",
        "result"
      ],
      "execution_count": null,
      "outputs": [
        {
          "output_type": "stream",
          "text": [
            "one two\n",
            "10 20\n"
          ],
          "name": "stdout"
        },
        {
          "output_type": "execute_result",
          "data": {
            "text/plain": [
              "{'one': 10, 'two': 20}"
            ]
          },
          "metadata": {},
          "execution_count": 31
        }
      ]
    },
    {
      "cell_type": "code",
      "metadata": {
        "colab": {
          "base_uri": "https://localhost:8080/"
        },
        "id": "6DX9E9K8eUE4",
        "outputId": "e06f0479-f8b9-4560-a7c9-f67285d77e78"
      },
      "source": [
        "list(map(lambda x:x**2, [10, 20, 30]))"
      ],
      "execution_count": null,
      "outputs": [
        {
          "output_type": "execute_result",
          "data": {
            "text/plain": [
              "[100, 400, 900]"
            ]
          },
          "metadata": {},
          "execution_count": 34
        }
      ]
    },
    {
      "cell_type": "markdown",
      "metadata": {
        "id": "gW4FkOY7fZzX"
      },
      "source": [
        "# 28번"
      ]
    },
    {
      "cell_type": "code",
      "metadata": {
        "colab": {
          "base_uri": "https://localhost:8080/"
        },
        "id": "5dVZSRAOfbJn",
        "outputId": "5fd2e34c-3264-416a-c3ea-b404ed92fc59"
      },
      "source": [
        "data = input()\n",
        "\n",
        "for i in range(len(data) - 1):\n",
        "    print(data[i]+data[i+1])"
      ],
      "execution_count": null,
      "outputs": [
        {
          "output_type": "stream",
          "text": [
            "python\n",
            "py\n",
            "yt\n",
            "th\n",
            "ho\n",
            "on\n"
          ],
          "name": "stdout"
        }
      ]
    },
    {
      "cell_type": "code",
      "metadata": {
        "colab": {
          "base_uri": "https://localhost:8080/"
        },
        "id": "kj6vntDLf7Jl",
        "outputId": "a823a772-d0eb-4bd8-ff03-556495832c6c"
      },
      "source": [
        "data = input()\n",
        "\n",
        "for i in range(1, len(data)):\n",
        "    print(data[i-1]+data[i])"
      ],
      "execution_count": null,
      "outputs": [
        {
          "output_type": "stream",
          "text": [
            "python\n",
            "py\n",
            "yt\n",
            "th\n",
            "ho\n",
            "on\n"
          ],
          "name": "stdout"
        }
      ]
    },
    {
      "cell_type": "markdown",
      "metadata": {
        "id": "LZ_4-1b8gDrS"
      },
      "source": [
        "# 29번"
      ]
    },
    {
      "cell_type": "code",
      "metadata": {
        "colab": {
          "base_uri": "https://localhost:8080/"
        },
        "id": "Dx2Utl4XgFFz",
        "outputId": "53170298-c858-4717-9cea-16651ff29f51"
      },
      "source": [
        "data = input()\n",
        "\n",
        "# chr()\n",
        "# ord()\n",
        "if data.isupper():\n",
        "    print('YES')\n",
        "else:\n",
        "    print('NO')"
      ],
      "execution_count": null,
      "outputs": [
        {
          "output_type": "stream",
          "text": [
            "leehojun\n",
            "NO\n"
          ],
          "name": "stdout"
        }
      ]
    },
    {
      "cell_type": "code",
      "metadata": {
        "colab": {
          "base_uri": "https://localhost:8080/"
        },
        "id": "W3NIF5_6gpDr",
        "outputId": "8dbf520a-9c8d-4f00-bf89-adeefc0bcc4b"
      },
      "source": [
        "data = input()\n",
        "\n",
        "# chr()\n",
        "# ord()\n",
        "정상종료 = True\n",
        "for i in data:\n",
        "    if ord(i) >= 65 and ord(i) <= 90:\n",
        "        continue\n",
        "    else:\n",
        "        정상종료 = False\n",
        "        break\n",
        "else:\n",
        "    print('YES')\n",
        "if not 정상종료:\n",
        "    print('NO')"
      ],
      "execution_count": null,
      "outputs": [
        {
          "output_type": "stream",
          "name": "stdout",
          "text": [
            "A\n",
            "YES\n"
          ]
        }
      ]
    },
    {
      "cell_type": "code",
      "metadata": {
        "colab": {
          "base_uri": "https://localhost:8080/"
        },
        "id": "JjQMePZPgs5T",
        "outputId": "28a9340d-5948-4886-8b33-5fcb55a5c7bf"
      },
      "source": [
        "ord('A'), ord('Z')"
      ],
      "execution_count": null,
      "outputs": [
        {
          "output_type": "execute_result",
          "data": {
            "text/plain": [
              "(65, 90)"
            ]
          },
          "metadata": {},
          "execution_count": 22
        }
      ]
    },
    {
      "cell_type": "code",
      "source": [
        "words = input()\n",
        "\n",
        "if words.isupper():\n",
        "  print(\"대문자\")\n",
        "else:\n",
        "  print(\"대문자가 아님\")"
      ],
      "metadata": {
        "colab": {
          "base_uri": "https://localhost:8080/"
        },
        "id": "Sfsc85itjfA_",
        "outputId": "75e931b7-8977-4211-95a2-a350e2aefbba"
      },
      "execution_count": null,
      "outputs": [
        {
          "output_type": "stream",
          "name": "stdout",
          "text": [
            "a\n",
            "대문자가 아님\n"
          ]
        }
      ]
    },
    {
      "cell_type": "markdown",
      "metadata": {
        "id": "daiwq009ihjW"
      },
      "source": [
        "# 30번"
      ]
    },
    {
      "cell_type": "code",
      "source": [
        "data = input()\n",
        "word = input()\n",
        "\n",
        "print(data.find(word))"
      ],
      "metadata": {
        "colab": {
          "base_uri": "https://localhost:8080/"
        },
        "id": "EGPEJXZ1gxCF",
        "outputId": "ac5aeddd-c59b-4d24-f280-302e2a3f344c"
      },
      "execution_count": null,
      "outputs": [
        {
          "output_type": "stream",
          "name": "stdout",
          "text": [
            "hello world\n",
            "i\n",
            "-1\n"
          ]
        }
      ]
    },
    {
      "cell_type": "code",
      "source": [
        "data = input()\n",
        "word = input()\n",
        "\n",
        "if word in data:\n",
        "    print(data.find(word))"
      ],
      "metadata": {
        "id": "X0fvmJ22gngS",
        "colab": {
          "base_uri": "https://localhost:8080/"
        },
        "outputId": "7f868532-bac3-4354-d564-5156b8c05e57"
      },
      "execution_count": null,
      "outputs": [
        {
          "name": "stdout",
          "output_type": "stream",
          "text": [
            "hello world\n",
            "i\n"
          ]
        }
      ]
    },
    {
      "cell_type": "code",
      "metadata": {
        "colab": {
          "base_uri": "https://localhost:8080/"
        },
        "id": "LLMtyElBjEbV",
        "outputId": "9e51769c-66c6-4509-e803-e0c3891af7ec"
      },
      "source": [
        "\n",
        "data.index(word)"
      ],
      "execution_count": null,
      "outputs": [
        {
          "output_type": "execute_result",
          "data": {
            "text/plain": [
              "3"
            ]
          },
          "metadata": {},
          "execution_count": 28
        }
      ]
    },
    {
      "cell_type": "code",
      "metadata": {
        "colab": {
          "base_uri": "https://localhost:8080/"
        },
        "id": "BdPv4yLBjHaQ",
        "outputId": "32364a29-59d6-4a9d-c3f8-dd1c4e911d2f"
      },
      "source": [
        "data.find(word)"
      ],
      "execution_count": null,
      "outputs": [
        {
          "output_type": "execute_result",
          "data": {
            "text/plain": [
              "-1"
            ]
          },
          "metadata": {},
          "execution_count": 53
        }
      ]
    },
    {
      "cell_type": "code",
      "metadata": {
        "colab": {
          "base_uri": "https://localhost:8080/"
        },
        "id": "0LxbKC6Ajg0l",
        "outputId": "3a17ca9c-2507-43cf-d59e-31f589be4dde"
      },
      "source": [
        "n = 100\n",
        "s = 0\n",
        "for i in range(101):\n",
        "    s += i\n",
        "s"
      ],
      "execution_count": null,
      "outputs": [
        {
          "output_type": "execute_result",
          "data": {
            "text/plain": [
              "5050"
            ]
          },
          "metadata": {},
          "execution_count": 55
        }
      ]
    },
    {
      "cell_type": "code",
      "metadata": {
        "colab": {
          "base_uri": "https://localhost:8080/"
        },
        "id": "ENKTfDHEjn6n",
        "outputId": "835c7067-390f-476e-e8b1-9f8225a922fb"
      },
      "source": [
        "n = 100\n",
        "(n * (n + 1))/2"
      ],
      "execution_count": null,
      "outputs": [
        {
          "output_type": "execute_result",
          "data": {
            "text/plain": [
              "5050.0"
            ]
          },
          "metadata": {},
          "execution_count": 54
        }
      ]
    },
    {
      "cell_type": "markdown",
      "metadata": {
        "id": "Ms48u_rTm-Ce"
      },
      "source": [
        "# 32번"
      ]
    },
    {
      "cell_type": "code",
      "metadata": {
        "colab": {
          "base_uri": "https://localhost:8080/"
        },
        "id": "1KSz8u3rnASq",
        "outputId": "28f06f68-cefd-4d22-bfa1-008c90c55cbb"
      },
      "source": [
        "data = '안녕하세요.             저는 제주대학교 컴퓨터공학전공 혜림입니다.'\n",
        "splitdata = data.split(' ')\n",
        "print(len(splitdata))\n",
        "\n",
        "\n",
        "for i in range(splitdata.count('')):\n",
        "  splitdata.remove('')\n",
        "\n",
        "print(splitdata)"
      ],
      "execution_count": null,
      "outputs": [
        {
          "output_type": "stream",
          "name": "stdout",
          "text": [
            "17\n",
            "['안녕하세요.', '저는', '제주대학교', '컴퓨터공학전공', '혜림입니다.']\n"
          ]
        }
      ]
    },
    {
      "cell_type": "code",
      "metadata": {
        "colab": {
          "base_uri": "https://localhost:8080/"
        },
        "id": "FjM7QmvCogKq",
        "outputId": "71bfc2f3-34c3-4171-eacb-b4de96e5ee21"
      },
      "source": [
        "splitdata.count('')"
      ],
      "execution_count": null,
      "outputs": [
        {
          "output_type": "execute_result",
          "data": {
            "text/plain": [
              "12"
            ]
          },
          "metadata": {},
          "execution_count": 71
        }
      ]
    },
    {
      "cell_type": "code",
      "source": [
        "company = [ 'A', 'B', 'C', 'D', 'A', 'A']\n",
        "\n",
        "# 마지막 한 개만 남기고 싹 다 슬라이싱해서 del\n",
        "for i in range(1,3):\n",
        "  company.remove('A')\n",
        "\n",
        "print(company)"
      ],
      "metadata": {
        "colab": {
          "base_uri": "https://localhost:8080/"
        },
        "id": "OOnsQ9hoKucl",
        "outputId": "bdb5b3ed-9362-4c45-ed96-81d01ff5a5b7"
      },
      "execution_count": null,
      "outputs": [
        {
          "output_type": "stream",
          "name": "stdout",
          "text": [
            "['B', 'C', 'D', 'A']\n"
          ]
        }
      ]
    },
    {
      "cell_type": "code",
      "metadata": {
        "colab": {
          "base_uri": "https://localhost:8080/"
        },
        "id": "HTFBpRS0o0Ev",
        "outputId": "7cc205ae-e136-4036-eb86-1a36b7d36cac"
      },
      "source": [
        "for i in range(splitdata.count('')):\n",
        "    splitdata.remove('')\n",
        "\n",
        "splitdata"
      ],
      "execution_count": null,
      "outputs": [
        {
          "output_type": "execute_result",
          "data": {
            "text/plain": [
              "['안녕하세요.', '저는', '제주대학교', '컴퓨터공학전공', '혜림입니다.']"
            ]
          },
          "metadata": {},
          "execution_count": 72
        }
      ]
    },
    {
      "cell_type": "markdown",
      "metadata": {
        "id": "d-ZPvYGa0OKl"
      },
      "source": [
        "# 33번"
      ]
    },
    {
      "cell_type": "code",
      "metadata": {
        "colab": {
          "base_uri": "https://localhost:8080/"
        },
        "id": "xT2utUau0huA",
        "outputId": "43a08408-28f7-40b5-a51c-a0bc0ca3ea09"
      },
      "source": [
        "data = input()\n",
        "\n",
        "data = list(data.split(' '))\n",
        "length = len(data) - 1\n",
        "for i in range(length, -1, -1):\n",
        "    print(data[i], end=' ')"
      ],
      "execution_count": null,
      "outputs": [
        {
          "output_type": "stream",
          "text": [
            "10 20 30\n",
            "30 20 10 "
          ],
          "name": "stdout"
        }
      ]
    },
    {
      "cell_type": "code",
      "metadata": {
        "id": "1FdmUK3O16rz"
      },
      "source": [
        "data = [10, 20, 30]\n",
        "data[3]"
      ],
      "execution_count": null,
      "outputs": []
    },
    {
      "cell_type": "markdown",
      "metadata": {
        "id": "jUDzJFYc2cYV"
      },
      "source": [
        "# 34번"
      ]
    },
    {
      "cell_type": "code",
      "metadata": {
        "id": "6dhzwbNX2eGk",
        "colab": {
          "base_uri": "https://localhost:8080/"
        },
        "outputId": "c6e5964d-bc40-4cce-e665-9d71e6422b77"
      },
      "source": [
        "data = [176, 156, 155, 165, 166, 169]\n",
        "\n",
        "# data.sort()\n",
        "sorted(data)\n",
        "\n",
        "print(sorted(data))\n",
        "print(data)\n",
        "\n",
        "data.sort()\n",
        "print(data.sort())"
      ],
      "execution_count": null,
      "outputs": [
        {
          "output_type": "stream",
          "name": "stdout",
          "text": [
            "[155, 156, 165, 166, 169, 176]\n",
            "[176, 156, 155, 165, 166, 169]\n",
            "None\n"
          ]
        }
      ]
    },
    {
      "cell_type": "code",
      "metadata": {
        "colab": {
          "base_uri": "https://localhost:8080/"
        },
        "id": "ETedqNY_3IEY",
        "outputId": "0fcf8859-0aea-48ca-a6ab-b07758286eec"
      },
      "source": [
        "data"
      ],
      "execution_count": null,
      "outputs": [
        {
          "output_type": "execute_result",
          "data": {
            "text/plain": [
              "[155, 156, 165, 166, 169, 176]"
            ]
          },
          "metadata": {},
          "execution_count": 87
        }
      ]
    },
    {
      "cell_type": "code",
      "metadata": {
        "colab": {
          "base_uri": "https://localhost:8080/"
        },
        "id": "Ml22ppsE3Nbe",
        "outputId": "364e0447-3efd-4a22-86aa-a39cef6c5225"
      },
      "source": [
        "입력 = input()\n",
        "\n",
        "l = [float(i) for i in 입력.split(' ')]\n",
        "l\n",
        "if l != sorted(l):\n",
        "    print('NO')\n",
        "else:\n",
        "    print('YES')"
      ],
      "execution_count": null,
      "outputs": [
        {
          "output_type": "stream",
          "text": [
            "10 20 30\n",
            "YES\n"
          ],
          "name": "stdout"
        }
      ]
    },
    {
      "cell_type": "code",
      "metadata": {
        "colab": {
          "base_uri": "https://localhost:8080/"
        },
        "id": "dMSkjcKG3ed4",
        "outputId": "e3d3a25d-9ce9-418a-d2a9-55dc4f8af3e0"
      },
      "source": [
        "[i for i in range(10)]"
      ],
      "execution_count": null,
      "outputs": [
        {
          "output_type": "execute_result",
          "data": {
            "text/plain": [
              "[0, 1, 2, 3, 4, 5, 6, 7, 8, 9]"
            ]
          },
          "metadata": {},
          "execution_count": 88
        }
      ]
    },
    {
      "cell_type": "code",
      "metadata": {
        "colab": {
          "base_uri": "https://localhost:8080/"
        },
        "id": "sdNbYTtV3fRa",
        "outputId": "610d77c3-ce8b-4687-f8bb-abb60a71fc1c"
      },
      "source": [
        "l = []\n",
        "for i in range(10):\n",
        "    l.append(i)\n",
        "l"
      ],
      "execution_count": null,
      "outputs": [
        {
          "output_type": "execute_result",
          "data": {
            "text/plain": [
              "[0, 1, 2, 3, 4, 5, 6, 7, 8, 9]"
            ]
          },
          "metadata": {},
          "execution_count": 89
        }
      ]
    },
    {
      "cell_type": "code",
      "metadata": {
        "id": "MnSLQ9rt3pjo"
      },
      "source": [
        "[f'{i} X {j} = {i*j}' for i in range(2, 10) for j in range(1, 10)]"
      ],
      "execution_count": null,
      "outputs": []
    },
    {
      "cell_type": "code",
      "metadata": {
        "colab": {
          "base_uri": "https://localhost:8080/"
        },
        "id": "2_kuNttv34vS",
        "outputId": "83306ee1-6029-4c6c-e66c-3e4be6fb3829"
      },
      "source": [
        "l = []\n",
        "for i in range(2, 10):\n",
        "    for j in range(1, 10):\n",
        "        l.append(f'{i} X {j} = {i*j}')\n",
        "l"
      ],
      "execution_count": null,
      "outputs": [
        {
          "output_type": "execute_result",
          "data": {
            "text/plain": [
              "['2 X 1 = 2',\n",
              " '2 X 2 = 4',\n",
              " '2 X 3 = 6',\n",
              " '2 X 4 = 8',\n",
              " '2 X 5 = 10',\n",
              " '2 X 6 = 12',\n",
              " '2 X 7 = 14',\n",
              " '2 X 8 = 16',\n",
              " '2 X 9 = 18',\n",
              " '3 X 1 = 3',\n",
              " '3 X 2 = 6',\n",
              " '3 X 3 = 9',\n",
              " '3 X 4 = 12',\n",
              " '3 X 5 = 15',\n",
              " '3 X 6 = 18',\n",
              " '3 X 7 = 21',\n",
              " '3 X 8 = 24',\n",
              " '3 X 9 = 27',\n",
              " '4 X 1 = 4',\n",
              " '4 X 2 = 8',\n",
              " '4 X 3 = 12',\n",
              " '4 X 4 = 16',\n",
              " '4 X 5 = 20',\n",
              " '4 X 6 = 24',\n",
              " '4 X 7 = 28',\n",
              " '4 X 8 = 32',\n",
              " '4 X 9 = 36',\n",
              " '5 X 1 = 5',\n",
              " '5 X 2 = 10',\n",
              " '5 X 3 = 15',\n",
              " '5 X 4 = 20',\n",
              " '5 X 5 = 25',\n",
              " '5 X 6 = 30',\n",
              " '5 X 7 = 35',\n",
              " '5 X 8 = 40',\n",
              " '5 X 9 = 45',\n",
              " '6 X 1 = 6',\n",
              " '6 X 2 = 12',\n",
              " '6 X 3 = 18',\n",
              " '6 X 4 = 24',\n",
              " '6 X 5 = 30',\n",
              " '6 X 6 = 36',\n",
              " '6 X 7 = 42',\n",
              " '6 X 8 = 48',\n",
              " '6 X 9 = 54',\n",
              " '7 X 1 = 7',\n",
              " '7 X 2 = 14',\n",
              " '7 X 3 = 21',\n",
              " '7 X 4 = 28',\n",
              " '7 X 5 = 35',\n",
              " '7 X 6 = 42',\n",
              " '7 X 7 = 49',\n",
              " '7 X 8 = 56',\n",
              " '7 X 9 = 63',\n",
              " '8 X 1 = 8',\n",
              " '8 X 2 = 16',\n",
              " '8 X 3 = 24',\n",
              " '8 X 4 = 32',\n",
              " '8 X 5 = 40',\n",
              " '8 X 6 = 48',\n",
              " '8 X 7 = 56',\n",
              " '8 X 8 = 64',\n",
              " '8 X 9 = 72',\n",
              " '9 X 1 = 9',\n",
              " '9 X 2 = 18',\n",
              " '9 X 3 = 27',\n",
              " '9 X 4 = 36',\n",
              " '9 X 5 = 45',\n",
              " '9 X 6 = 54',\n",
              " '9 X 7 = 63',\n",
              " '9 X 8 = 72',\n",
              " '9 X 9 = 81']"
            ]
          },
          "metadata": {},
          "execution_count": 93
        }
      ]
    },
    {
      "cell_type": "markdown",
      "metadata": {
        "id": "aKcDX_x_6Djz"
      },
      "source": [
        "# 35번"
      ]
    },
    {
      "cell_type": "code",
      "metadata": {
        "colab": {
          "base_uri": "https://localhost:8080/"
        },
        "id": "NfdOj9Cs5thm",
        "outputId": "886e0d22-b102-46c7-a222-f9ef9d1ea0e4"
      },
      "source": [
        "def one(n):\n",
        "    def two(value):\n",
        "        return value**n\n",
        "    return two\n",
        "\n",
        "a = one(2)\n",
        "b = one(3)\n",
        "c = one(4)\n",
        "print(a(10))\n",
        "print(b(10))\n",
        "print(c(10))"
      ],
      "execution_count": null,
      "outputs": [
        {
          "output_type": "stream",
          "text": [
            "100\n",
            "1000\n",
            "10000\n"
          ],
          "name": "stdout"
        }
      ]
    },
    {
      "cell_type": "code",
      "metadata": {
        "id": "rzsao_Ym6xio",
        "colab": {
          "base_uri": "https://localhost:8080/"
        },
        "outputId": "1a3722a4-77b9-45f0-b71c-1a6bb8032bbf"
      },
      "source": [
        "호준 = print\n",
        "호준('hello world')"
      ],
      "execution_count": null,
      "outputs": [
        {
          "output_type": "stream",
          "name": "stdout",
          "text": [
            "hello world\n"
          ]
        }
      ]
    },
    {
      "cell_type": "markdown",
      "metadata": {
        "id": "sE1MhL2QKwbw"
      },
      "source": [
        "# 36번"
      ]
    },
    {
      "cell_type": "code",
      "metadata": {
        "colab": {
          "base_uri": "https://localhost:8080/"
        },
        "id": "DRV41SYFKyAx",
        "outputId": "38414cff-fa06-4450-96a9-dad3e7dd6a8c"
      },
      "source": [
        "단 = int(input())\n",
        "for i in range(1, 10):\n",
        "    print(단 * i, end=' ')"
      ],
      "execution_count": null,
      "outputs": [
        {
          "output_type": "stream",
          "text": [
            "2\n",
            "2 4 6 8 10 12 14 16 18 "
          ],
          "name": "stdout"
        }
      ]
    },
    {
      "cell_type": "code",
      "metadata": {
        "colab": {
          "base_uri": "https://localhost:8080/"
        },
        "id": "Udbml2CUMFju",
        "outputId": "cf35d7ed-5785-468c-ca1d-19c43f0be98e"
      },
      "source": [
        "단 = int(input())\n",
        "s = ''\n",
        "for i in range(1, 10):\n",
        "    s += str(단 * i) + ' '\n",
        "print(s)"
      ],
      "execution_count": null,
      "outputs": [
        {
          "output_type": "stream",
          "text": [
            "2\n",
            "2 4 6 8 10 12 14 16 18 \n"
          ],
          "name": "stdout"
        }
      ]
    },
    {
      "cell_type": "markdown",
      "metadata": {
        "id": "Z9SMdduCMpIE"
      },
      "source": [
        "# 37번"
      ]
    },
    {
      "cell_type": "code",
      "source": [
        "a = [(0, 70), (1, 0), (2, 30), (3, 20)]\n",
        "\n",
        "# key 없이 default\n",
        "print(max(a))\n",
        "\n",
        "# key를 사용한다면? 2번째 인자를 기준으로\n",
        "\n",
        "print(max(a, key=lambda x : x[1]))\n"
      ],
      "metadata": {
        "colab": {
          "base_uri": "https://localhost:8080/"
        },
        "id": "u_e_YoEveO-e",
        "outputId": "5fc377b4-d31c-4c08-e5f1-2199f75722f6"
      },
      "execution_count": null,
      "outputs": [
        {
          "output_type": "stream",
          "name": "stdout",
          "text": [
            "(3, 20)\n",
            "(0, 70)\n"
          ]
        }
      ]
    },
    {
      "cell_type": "code",
      "metadata": {
        "colab": {
          "base_uri": "https://localhost:8080/"
        },
        "id": "237IejS-MqgH",
        "outputId": "cc6cfaef-252a-46bb-94db-93fa1368de13"
      },
      "source": [
        "# 원범 원범 혜원 혜원 유진 유진 유진 유진 혜원 혜원 혜원 혜원 혜원\n",
        "# 혜원(이)가 총 4표로 반장이 되었습니다.\n",
        "\n",
        "data = input().split()\n",
        "data_set = set(data)\n",
        "data_dict = {}\n",
        "for key in data_set:\n",
        "    data_dict[key] = data.count(key)\n",
        "\n",
        "print(f'{max(data_dict, key=data_dict.get)}(이)가 총 {max(data_dict.values())}표로 반장이 되었습니다.')"
      ],
      "execution_count": null,
      "outputs": [
        {
          "output_type": "stream",
          "name": "stdout",
          "text": [
            "원범 원범 혜원 혜원 유진 유진 유진 유진 혜원 혜원 혜원 혜원 혜원\n",
            "혜원(이)가 총 7표로 반장이 되었습니다.\n"
          ]
        }
      ]
    },
    {
      "cell_type": "code",
      "metadata": {
        "colab": {
          "base_uri": "https://localhost:8080/"
        },
        "id": "a09sf1WXOuBY",
        "outputId": "7ccfee6a-3269-4e5e-ffd5-814ee18d0d39"
      },
      "source": [
        "data = [(1, 2, 9), (4, 5, 6), (0, 7, 8), (3, 1, 1)]\n",
        "\n",
        "max(data)"
      ],
      "execution_count": null,
      "outputs": [
        {
          "output_type": "execute_result",
          "data": {
            "text/plain": [
              "(4, 5, 6)"
            ]
          },
          "metadata": {},
          "execution_count": 2
        }
      ]
    },
    {
      "cell_type": "code",
      "metadata": {
        "colab": {
          "base_uri": "https://localhost:8080/"
        },
        "id": "ebOTrnCqPCkc",
        "outputId": "dc638b98-dd51-45fb-dbf4-d129e598e8f2"
      },
      "source": [
        "def 함수(x):\n",
        "    return x[2]\n",
        "\n",
        "max(data, key=함수)"
      ],
      "execution_count": null,
      "outputs": [
        {
          "output_type": "execute_result",
          "data": {
            "text/plain": [
              "(1, 2, 9)"
            ]
          },
          "metadata": {},
          "execution_count": 13
        }
      ]
    },
    {
      "cell_type": "code",
      "metadata": {
        "colab": {
          "base_uri": "https://localhost:8080/"
        },
        "id": "PDR79paSQ650",
        "outputId": "62baf0d0-768a-422a-db54-4d30834b80c4"
      },
      "source": [
        "max(data, key=lambda x:x[2])"
      ],
      "execution_count": null,
      "outputs": [
        {
          "output_type": "execute_result",
          "data": {
            "text/plain": [
              "(1, 2, 9)"
            ]
          },
          "metadata": {},
          "execution_count": 14
        }
      ]
    },
    {
      "cell_type": "markdown",
      "metadata": {
        "id": "uJGsEzFTU7kY"
      },
      "source": [
        "# 38번"
      ]
    },
    {
      "cell_type": "code",
      "metadata": {
        "id": "C2nTw1FVU9Ib"
      },
      "source": [
        "# 점수입력 : 97 86 75 66 55 97 85 97 97 95 95 95\n",
        "# 점수입력 : 97 97 97 97 97\n",
        "# 출력 : 8"
      ],
      "execution_count": null,
      "outputs": []
    },
    {
      "cell_type": "code",
      "source": [
        "# 점수 전체 입력받기\n",
        "data = list(map(int, input().split())) # map으로만 받아주면 1회성 데이터가 돼서 sorted 한번 거치고 나면 빈값이 되므로, 꼭 list로 변환해서 받아주어야 함\n",
        "# [int(i) for i in data] : 리스트 컴프리헨션 (i에 반복적으로 int(i)를 적용할 수 있는 간단한 문법, int(i) for i in data if int(i) % 2 == 0 처럼 조건문도 사용 가능)\n",
        "\n",
        "# 사탕 줄 사람 초기화\n",
        "count = 0\n",
        "\n",
        "# 내림차순 정렬 후에 4위 점수를 break point로 설정\n",
        "break_point = sorted(list(set(data)), reverse=True)[3]\n",
        "\n",
        "#\n",
        "for i in sorted(data, reverse=True):\n",
        "  if break_point == i :\n",
        "    break\n",
        "  else:\n",
        "    print(i)\n",
        "    count += 1\n",
        "print(sorted(data, reverse=True))\n",
        "print(count)"
      ],
      "metadata": {
        "colab": {
          "base_uri": "https://localhost:8080/"
        },
        "id": "LOqt-yUVhGqB",
        "outputId": "51f4553e-0d6d-4c39-f3e9-86a34f18bbe6"
      },
      "execution_count": null,
      "outputs": [
        {
          "output_type": "stream",
          "name": "stdout",
          "text": [
            "97 86 75 66 55 97 85 97 97 95 95 95\n",
            "97\n",
            "97\n",
            "97\n",
            "97\n",
            "95\n",
            "95\n",
            "95\n",
            "86\n",
            "[97, 97, 97, 97, 95, 95, 95, 86, 85, 75, 66, 55]\n",
            "8\n"
          ]
        }
      ]
    },
    {
      "cell_type": "code",
      "metadata": {
        "colab": {
          "base_uri": "https://localhost:8080/"
        },
        "id": "zWtm_09-VCrh",
        "outputId": "7e044581-7c43-4670-d63e-d1cbdbc0b8ae"
      },
      "source": [
        "data = input().split()\n",
        "data = [int(i) for i in data]\n",
        "\n",
        "count = 0\n",
        "\n",
        "if len(set(data)) <= 3:\n",
        "    count = len(data)\n",
        "else:\n",
        "    break_point = sorted(list(set(data)), reverse=True)[3]\n",
        "\n",
        "    data_sorted = sorted(data, reverse=True)\n",
        "    for i in data_sorted:\n",
        "        if break_point == i:\n",
        "            break\n",
        "        else:\n",
        "            count += 1\n",
        "count"
      ],
      "execution_count": null,
      "outputs": [
        {
          "name": "stdout",
          "output_type": "stream",
          "text": [
            "97 86 75 66 55 97 85 97 97 95 95 95\n"
          ]
        },
        {
          "output_type": "execute_result",
          "data": {
            "text/plain": [
              "8"
            ]
          },
          "metadata": {},
          "execution_count": 12
        }
      ]
    },
    {
      "cell_type": "markdown",
      "metadata": {
        "id": "P9YyjqigdEhg"
      },
      "source": [
        "# 39번"
      ]
    },
    {
      "cell_type": "code",
      "metadata": {
        "colab": {
          "base_uri": "https://localhost:8080/",
          "height": 53
        },
        "id": "R2SROhl0dGOJ",
        "outputId": "bb5f9b9e-0bf1-4b74-c3bc-bf1eeec5d747"
      },
      "source": [
        "'''\n",
        "입력 : querty\n",
        "출력 : euerty\n",
        "\n",
        "입력 : hqllo my bamq is hyqwob\n",
        "출력 : hello my bame is hyewob\n",
        "'''\n",
        "\n",
        "data = input()\n",
        "\n",
        "data.replace('q', 'e').replace('b', 'n')"
      ],
      "execution_count": null,
      "outputs": [
        {
          "output_type": "stream",
          "text": [
            "hqllo my bamq is hyqwob\n"
          ],
          "name": "stdout"
        },
        {
          "output_type": "execute_result",
          "data": {
            "application/vnd.google.colaboratory.intrinsic+json": {
              "type": "string"
            },
            "text/plain": [
              "'hello my name is hyewon'"
            ]
          },
          "metadata": {},
          "execution_count": 24
        }
      ]
    },
    {
      "cell_type": "code",
      "metadata": {
        "colab": {
          "base_uri": "https://localhost:8080/"
        },
        "id": "R8XEwg3wdisX",
        "outputId": "38f006e9-3bf2-460e-b792-33eca4e072c0"
      },
      "source": [
        "import re\n",
        "\n",
        "data = re.sub('q', 'e', data)\n",
        "print(re.sub('b', 'n', data))"
      ],
      "execution_count": null,
      "outputs": [
        {
          "output_type": "stream",
          "text": [
            "hello my name is hyewon\n"
          ],
          "name": "stdout"
        }
      ]
    },
    {
      "cell_type": "code",
      "metadata": {
        "colab": {
          "base_uri": "https://localhost:8080/",
          "height": 35
        },
        "id": "0u7UR9V7d9L1",
        "outputId": "f055a491-34e7-460a-f001-3c3ef08e1ee7"
      },
      "source": [
        "import re\n",
        "\n",
        "re.sub('[0-9]+', '!', '123abc123')\n",
        "re.sub('[a-z]+', '!', '123abc123')\n",
        "re.sub('[a-z]', '!', '123abc123')"
      ],
      "execution_count": null,
      "outputs": [
        {
          "output_type": "execute_result",
          "data": {
            "application/vnd.google.colaboratory.intrinsic+json": {
              "type": "string"
            },
            "text/plain": [
              "'123!!!123'"
            ]
          },
          "metadata": {},
          "execution_count": 29
        }
      ]
    },
    {
      "cell_type": "markdown",
      "metadata": {
        "id": "Pq2eVyXXjEb9"
      },
      "source": [
        "# 40번"
      ]
    },
    {
      "cell_type": "code",
      "metadata": {
        "colab": {
          "base_uri": "https://localhost:8080/"
        },
        "id": "q96fgnJajHtY",
        "outputId": "49888d46-ca8f-4249-b054-61b450df2908"
      },
      "source": [
        "제한무게 = float(input())\n",
        "친구수 = int(input())\n",
        "친구몸무게 = []\n",
        "\n",
        "for i in range(친구수):\n",
        "    친구몸무게.append(float(input()))\n",
        "\n",
        "전체몸무게 = 0\n",
        "for i in range(친구수):\n",
        "    전체몸무게 += 친구몸무게[i]\n",
        "    if 전체몸무게 > 제한무게:\n",
        "        print(i)\n",
        "        break"
      ],
      "execution_count": null,
      "outputs": [
        {
          "output_type": "stream",
          "text": [
            "30\n",
            "5\n",
            "10\n",
            "10\n",
            "10\n",
            "10\n",
            "10\n",
            "3\n"
          ],
          "name": "stdout"
        }
      ]
    },
    {
      "cell_type": "code",
      "metadata": {
        "colab": {
          "base_uri": "https://localhost:8080/"
        },
        "id": "vUecZEuSn6h7",
        "outputId": "4cdc95a3-effb-46fb-bcb8-26f0d5c00d64"
      },
      "source": [
        "제한무게 = float(input())\n",
        "친구수 = int(input())\n",
        "친구몸무게 = []\n",
        "전체몸무게 = 0\n",
        "제한수 = 0\n",
        "비교 = True\n",
        "\n",
        "for i in range(친구수):\n",
        "    친구몸무게.append(float(input()))\n",
        "    전체몸무게 += 친구몸무게[i]\n",
        "    if 전체몸무게 > 제한무게:\n",
        "        if 비교:\n",
        "            비교 = False\n",
        "            제한수 = i\n",
        "\n",
        "print(제한수)"
      ],
      "execution_count": null,
      "outputs": [
        {
          "output_type": "stream",
          "text": [
            "30\n",
            "4\n",
            "10\n",
            "10\n",
            "10\n",
            "10\n",
            "3\n"
          ],
          "name": "stdout"
        }
      ]
    },
    {
      "cell_type": "code",
      "metadata": {
        "colab": {
          "base_uri": "https://localhost:8080/"
        },
        "id": "RGBYsozarS-C",
        "outputId": "5021d57b-8b61-49a4-a953-e4e25ed91edc"
      },
      "source": [
        "제한무게 = float(input())\n",
        "친구수 = int(input())\n",
        "친구몸무게 = []\n",
        "전체몸무게 = 0\n",
        "제한수 = 0\n",
        "비교 = True\n",
        "\n",
        "for i in range(친구수):\n",
        "    친구몸무게.append(float(input()))\n",
        "    전체몸무게 += 친구몸무게[i]\n",
        "    if 전체몸무게 > 제한무게:\n",
        "        if 비교:\n",
        "            비교 = False\n",
        "            제한수 = i\n",
        "if 제한수 == 0 and 친구몸무게[0] <= 제한무게:\n",
        "    print(len(친구몸무게))\n",
        "else:\n",
        "    print(제한수)"
      ],
      "execution_count": null,
      "outputs": [
        {
          "output_type": "stream",
          "text": [
            "30\n",
            "5\n",
            "30\n",
            "5\n",
            "5\n",
            "5\n",
            "5\n",
            "1\n"
          ],
          "name": "stdout"
        }
      ]
    },
    {
      "cell_type": "markdown",
      "metadata": {
        "id": "xJ9aK5uquGdK"
      },
      "source": [
        "# 41번"
      ]
    },
    {
      "cell_type": "code",
      "metadata": {
        "id": "etufQAvEb5WX"
      },
      "source": [
        "%%timeit\n",
        "\n",
        "# 오답입니다. 히스토리 관리차 남겨둡니다.\n",
        "x = 1223\n",
        "for i in range(3, x):\n",
        "    if x <= 1:\n",
        "        print('소수가 아닙니다.')\n",
        "        break\n",
        "    elif x == 2:\n",
        "        print('소수입니다.')\n",
        "        break\n",
        "    elif x % i == 0:\n",
        "        print('소수가 아닙니다.')\n",
        "        break\n",
        "else:\n",
        "    print('소수입니다.')"
      ],
      "execution_count": null,
      "outputs": []
    },
    {
      "cell_type": "code",
      "metadata": {
        "colab": {
          "base_uri": "https://localhost:8080/"
        },
        "id": "W2BWTEvxBHVH",
        "outputId": "c983aaf9-94d9-40f6-d7ab-82cd01c8b1d5"
      },
      "source": [
        "x = 4\n",
        "if x <= 1:\n",
        "    print('소수가 아닙니다.')\n",
        "elif x == 2:\n",
        "    print('소수입니다.')\n",
        "else:\n",
        "    for i in range(2, x):\n",
        "        if x % i == 0:\n",
        "            print('소수가 아닙니다.')\n",
        "            break\n",
        "    else:\n",
        "        print('소수입니다.')"
      ],
      "execution_count": null,
      "outputs": [
        {
          "output_type": "stream",
          "text": [
            "소수가 아닙니다.\n"
          ],
          "name": "stdout"
        }
      ]
    },
    {
      "cell_type": "code",
      "metadata": {
        "colab": {
          "base_uri": "https://localhost:8080/"
        },
        "id": "7zjL7DLtBHNU",
        "outputId": "34c8e96a-87ee-4052-d9e7-42d45eb268de"
      },
      "source": [
        "x = 4\n",
        "for i in range(2, x):\n",
        "    if x <= 1:\n",
        "        print('소수가 아닙니다.')\n",
        "        break\n",
        "    elif x == 2:\n",
        "        print('소수입니다.')\n",
        "        break\n",
        "    elif x % i == 0:\n",
        "        print('소수가 아닙니다.')\n",
        "        break\n",
        "else:\n",
        "    print('소수입니다.')"
      ],
      "execution_count": null,
      "outputs": [
        {
          "output_type": "stream",
          "text": [
            "소수입니다.\n"
          ],
          "name": "stdout"
        }
      ]
    },
    {
      "cell_type": "code",
      "metadata": {
        "id": "-v1jTcFme-2y"
      },
      "source": [
        "%%timeit\n",
        "\n",
        "def chech_prime(n):\n",
        "    if n <= 1:\n",
        "        return \"NO\"\n",
        "    i = 2\n",
        "    소수 = True\n",
        "    while (i**2) < n:\n",
        "        if n % i == 0:\n",
        "            소수 = False\n",
        "            break\n",
        "        i += 1\n",
        "    if 소수:\n",
        "        return \"YES\"\n",
        "    else:\n",
        "        return \"NO\"\n",
        "\n",
        "print(chech_prime(1223))"
      ],
      "execution_count": null,
      "outputs": []
    },
    {
      "cell_type": "markdown",
      "metadata": {
        "id": "HgSPGrnAe7Gu"
      },
      "source": [
        "1. 244/1000000초\n",
        "2. 104/1000000초"
      ]
    },
    {
      "cell_type": "markdown",
      "metadata": {
        "id": "44XM-xaXhRgZ"
      },
      "source": [
        "# 42번"
      ]
    },
    {
      "cell_type": "code",
      "metadata": {
        "colab": {
          "base_uri": "https://localhost:8080/"
        },
        "id": "Dpjgfid6n5YX",
        "outputId": "86e19f32-ac85-441c-8ca5-0cfb5ca71d0e"
      },
      "source": [
        "import datetime\n",
        "\n",
        "date = datetime.datetime.today()\n",
        "date"
      ],
      "execution_count": null,
      "outputs": [
        {
          "output_type": "execute_result",
          "data": {
            "text/plain": [
              "datetime.datetime(2021, 8, 28, 7, 21, 33, 20053)"
            ]
          },
          "metadata": {},
          "execution_count": 31
        }
      ]
    },
    {
      "cell_type": "code",
      "metadata": {
        "colab": {
          "base_uri": "https://localhost:8080/"
        },
        "id": "DtYkt69Uo0Rl",
        "outputId": "abaef7ff-5b2a-482a-dec4-208069016870"
      },
      "source": [
        "date.year"
      ],
      "execution_count": null,
      "outputs": [
        {
          "output_type": "execute_result",
          "data": {
            "text/plain": [
              "2021"
            ]
          },
          "metadata": {},
          "execution_count": 32
        }
      ]
    },
    {
      "cell_type": "code",
      "metadata": {
        "colab": {
          "base_uri": "https://localhost:8080/"
        },
        "id": "_jaFGK1BozF7",
        "outputId": "02f8fb6c-ef0c-4202-fecd-b1117e7c000c"
      },
      "source": [
        "date.year, date.month, date.day, date.hour, date.minute, date.second, date.microsecond"
      ],
      "execution_count": null,
      "outputs": [
        {
          "output_type": "execute_result",
          "data": {
            "text/plain": [
              "(2021, 8, 28, 7, 21, 33, 20053)"
            ]
          },
          "metadata": {},
          "execution_count": 33
        }
      ]
    },
    {
      "cell_type": "code",
      "metadata": {
        "colab": {
          "base_uri": "https://localhost:8080/"
        },
        "id": "m2CZ90cEo71C",
        "outputId": "6c33bb51-0fab-40d9-c1dc-9e3df3f7e324"
      },
      "source": [
        "datetime.date(2021, 8, 28)"
      ],
      "execution_count": null,
      "outputs": [
        {
          "output_type": "execute_result",
          "data": {
            "text/plain": [
              "datetime.date(2021, 8, 28)"
            ]
          },
          "metadata": {},
          "execution_count": 34
        }
      ]
    },
    {
      "cell_type": "code",
      "metadata": {
        "colab": {
          "base_uri": "https://localhost:8080/"
        },
        "id": "7URiWUFlpBmz",
        "outputId": "f77933db-3c9f-46c0-caaa-aa643ebe979d"
      },
      "source": [
        "datetime.date.today()"
      ],
      "execution_count": null,
      "outputs": [
        {
          "output_type": "execute_result",
          "data": {
            "text/plain": [
              "datetime.date(2021, 8, 28)"
            ]
          },
          "metadata": {},
          "execution_count": 35
        }
      ]
    },
    {
      "cell_type": "code",
      "metadata": {
        "colab": {
          "base_uri": "https://localhost:8080/"
        },
        "id": "KuSk8GK-pEqJ",
        "outputId": "89019c73-e195-4051-e946-2d2a02b6b792"
      },
      "source": [
        "datetime.date(2021, 9, 28) - datetime.date.today()"
      ],
      "execution_count": null,
      "outputs": [
        {
          "output_type": "execute_result",
          "data": {
            "text/plain": [
              "datetime.timedelta(days=31)"
            ]
          },
          "metadata": {},
          "execution_count": 36
        }
      ]
    },
    {
      "cell_type": "code",
      "metadata": {
        "colab": {
          "base_uri": "https://localhost:8080/"
        },
        "id": "7mX6nIcMpRK9",
        "outputId": "8561366f-4f0b-4d32-90de-3bf7f99ce33f"
      },
      "source": [
        "datetime.date(2021, 8, 28).weekday()"
      ],
      "execution_count": null,
      "outputs": [
        {
          "output_type": "execute_result",
          "data": {
            "text/plain": [
              "5"
            ]
          },
          "metadata": {},
          "execution_count": 37
        }
      ]
    },
    {
      "cell_type": "code",
      "metadata": {
        "colab": {
          "base_uri": "https://localhost:8080/"
        },
        "id": "vYxf7g4UpZrg",
        "outputId": "9f1f169d-80d0-43c9-fca9-830488f4daf7"
      },
      "source": [
        "datetime.date(2021, 8, 28).isoweekday()"
      ],
      "execution_count": null,
      "outputs": [
        {
          "output_type": "execute_result",
          "data": {
            "text/plain": [
              "6"
            ]
          },
          "metadata": {},
          "execution_count": 38
        }
      ]
    },
    {
      "cell_type": "code",
      "metadata": {
        "colab": {
          "base_uri": "https://localhost:8080/"
        },
        "id": "8PB6jWkWpSMA",
        "outputId": "884699e1-9f41-4e0e-f456-a9b04739d4b9"
      },
      "source": [
        "m = int(input())\n",
        "d = int(input())\n",
        "\n",
        "def findDay(a, b):\n",
        "    day = [\"MON\",\"TUE\",\"WED\",\"THU\",\"FRI\",\"SAT\",\"SUN\"]\n",
        "    return day[datetime.date(2021, a, b).weekday()]\n",
        "\n",
        "print(findDay(m, d))"
      ],
      "execution_count": null,
      "outputs": [
        {
          "output_type": "stream",
          "text": [
            "8\n",
            "28\n",
            "SAT\n"
          ],
          "name": "stdout"
        }
      ]
    },
    {
      "cell_type": "markdown",
      "metadata": {
        "id": "RHSWUyJx-TLW"
      },
      "source": [
        "# 43번"
      ]
    },
    {
      "cell_type": "code",
      "metadata": {
        "colab": {
          "base_uri": "https://localhost:8080/",
          "height": 35
        },
        "id": "1rgc-nKo-Upn",
        "outputId": "2f64f3d4-23a6-4e32-cfe3-03d175de2e11"
      },
      "source": [
        "bin(13)"
      ],
      "execution_count": null,
      "outputs": [
        {
          "output_type": "execute_result",
          "data": {
            "application/vnd.google.colaboratory.intrinsic+json": {
              "type": "string"
            },
            "text/plain": [
              "'0b1101'"
            ]
          },
          "metadata": {},
          "execution_count": 40
        }
      ]
    },
    {
      "cell_type": "code",
      "metadata": {
        "colab": {
          "base_uri": "https://localhost:8080/"
        },
        "id": "AQ4oYlpkEF8g",
        "outputId": "e6e74af6-4207-45c7-bcbd-ac9225b80863"
      },
      "source": [
        "a = int(input())\n",
        "b = []\n",
        "\n",
        "while a:\n",
        "    print(a)\n",
        "    b.append(str(a % 2))\n",
        "    a = int(a // 2)\n",
        "print(b)\n",
        "b.reverse()\n",
        "print(''.join(b))"
      ],
      "execution_count": null,
      "outputs": [
        {
          "output_type": "stream",
          "text": [
            "13\n",
            "13\n",
            "6\n",
            "3\n",
            "1\n",
            "['1', '0', '1', '1']\n",
            "1-1-0-1\n"
          ],
          "name": "stdout"
        }
      ]
    },
    {
      "cell_type": "code",
      "metadata": {
        "colab": {
          "base_uri": "https://localhost:8080/",
          "height": 35
        },
        "id": "bcZ9HiAlFe_2",
        "outputId": "3af7b48c-ce1f-4c6b-e4c5-8a81db6fb5ad"
      },
      "source": [
        "'''\n",
        "01               10\n",
        "01234567         10\n",
        "0123456789       10\n",
        "0123456789abcdef 10\n",
        "'''"
      ],
      "execution_count": null,
      "outputs": [
        {
          "output_type": "execute_result",
          "data": {
            "application/vnd.google.colaboratory.intrinsic+json": {
              "type": "string"
            },
            "text/plain": [
              "'\\n01               10\\n01234567         10\\n0123456789       10\\n0123456789abcdef 10\\n'"
            ]
          },
          "metadata": {},
          "execution_count": 44
        }
      ]
    },
    {
      "cell_type": "markdown",
      "metadata": {
        "id": "G_5pluNVGEBZ"
      },
      "source": [
        "# 44번"
      ]
    },
    {
      "cell_type": "code",
      "metadata": {
        "colab": {
          "base_uri": "https://localhost:8080/"
        },
        "id": "FS80os5qGDUu",
        "outputId": "acf04b7f-209b-4ab0-c20a-1fbe7027cdd3"
      },
      "source": [
        "data = input()\n",
        "\n",
        "s = 0\n",
        "for i in data:\n",
        "    s += int(i)\n",
        "\n",
        "s"
      ],
      "execution_count": null,
      "outputs": [
        {
          "output_type": "stream",
          "text": [
            "123\n"
          ],
          "name": "stdout"
        },
        {
          "output_type": "execute_result",
          "data": {
            "text/plain": [
              "6"
            ]
          },
          "metadata": {},
          "execution_count": 47
        }
      ]
    },
    {
      "cell_type": "markdown",
      "metadata": {
        "id": "kc1LCsDoI3kv"
      },
      "source": [
        "# 45번"
      ]
    },
    {
      "cell_type": "code",
      "metadata": {
        "colab": {
          "base_uri": "https://localhost:8080/"
        },
        "id": "QPtmRe_uG48n",
        "outputId": "0fe51973-c487-49a5-db7e-6834ba376520"
      },
      "source": [
        "import time\n",
        "\n",
        "t = time.time()\n",
        "t = t // (365*24*60*60) + 1970\n",
        "print(int(t))"
      ],
      "execution_count": null,
      "outputs": [
        {
          "output_type": "stream",
          "text": [
            "2021\n"
          ],
          "name": "stdout"
        }
      ]
    },
    {
      "cell_type": "markdown",
      "metadata": {
        "id": "g13gqn-nH3CI"
      },
      "source": [
        "# 46번"
      ]
    },
    {
      "cell_type": "code",
      "metadata": {
        "colab": {
          "base_uri": "https://localhost:8080/",
          "height": 70
        },
        "id": "_n1Tf3g7H4hK",
        "outputId": "da913c76-8284-4633-d3e8-35280700ac4c"
      },
      "source": [
        "s = ''\n",
        "\n",
        "for i in range(1, 101):\n",
        "    s += str(i)\n",
        "s"
      ],
      "execution_count": null,
      "outputs": [
        {
          "output_type": "execute_result",
          "data": {
            "application/vnd.google.colaboratory.intrinsic+json": {
              "type": "string"
            },
            "text/plain": [
              "'123456789101112131415161718192021222324252627282930313233343536373839404142434445464748495051525354555657585960616263646566676869707172737475767778798081828384858687888990919293949596979899100'"
            ]
          },
          "metadata": {},
          "execution_count": 53
        }
      ]
    },
    {
      "cell_type": "code",
      "metadata": {
        "colab": {
          "base_uri": "https://localhost:8080/",
          "height": 70
        },
        "id": "lbKFHwwmINgF",
        "outputId": "be33b336-a120-4ed6-a9fa-4831981e9d01"
      },
      "source": [
        "''.join([str(i) for i in range(1, 101)])"
      ],
      "execution_count": null,
      "outputs": [
        {
          "output_type": "execute_result",
          "data": {
            "application/vnd.google.colaboratory.intrinsic+json": {
              "type": "string"
            },
            "text/plain": [
              "'123456789101112131415161718192021222324252627282930313233343536373839404142434445464748495051525354555657585960616263646566676869707172737475767778798081828384858687888990919293949596979899100'"
            ]
          },
          "metadata": {},
          "execution_count": 58
        }
      ]
    },
    {
      "cell_type": "code",
      "metadata": {
        "colab": {
          "base_uri": "https://localhost:8080/",
          "height": 105
        },
        "id": "BW6WQEu0ITm4",
        "outputId": "71d2d726-d567-49f7-be95-cf4761056a01"
      },
      "source": [
        "str(list(range(1, 101)))"
      ],
      "execution_count": null,
      "outputs": [
        {
          "output_type": "execute_result",
          "data": {
            "application/vnd.google.colaboratory.intrinsic+json": {
              "type": "string"
            },
            "text/plain": [
              "'[1, 2, 3, 4, 5, 6, 7, 8, 9, 10, 11, 12, 13, 14, 15, 16, 17, 18, 19, 20, 21, 22, 23, 24, 25, 26, 27, 28, 29, 30, 31, 32, 33, 34, 35, 36, 37, 38, 39, 40, 41, 42, 43, 44, 45, 46, 47, 48, 49, 50, 51, 52, 53, 54, 55, 56, 57, 58, 59, 60, 61, 62, 63, 64, 65, 66, 67, 68, 69, 70, 71, 72, 73, 74, 75, 76, 77, 78, 79, 80, 81, 82, 83, 84, 85, 86, 87, 88, 89, 90, 91, 92, 93, 94, 95, 96, 97, 98, 99, 100]'"
            ]
          },
          "metadata": {},
          "execution_count": 60
        }
      ]
    },
    {
      "cell_type": "code",
      "metadata": {
        "colab": {
          "base_uri": "https://localhost:8080/"
        },
        "id": "2GGrBqH6Is2y",
        "outputId": "3e65c4e0-d7c0-4348-d5e3-9fd59183cb13"
      },
      "source": [
        "s = ''\n",
        "합 = 0\n",
        "\n",
        "for i in range(1, 101):\n",
        "    s += str(i)\n",
        "\n",
        "for i in s:\n",
        "    합 += int(i)\n",
        "\n",
        "합"
      ],
      "execution_count": null,
      "outputs": [
        {
          "output_type": "execute_result",
          "data": {
            "text/plain": [
              "901"
            ]
          },
          "metadata": {},
          "execution_count": 61
        }
      ]
    },
    {
      "cell_type": "code",
      "metadata": {
        "colab": {
          "base_uri": "https://localhost:8080/"
        },
        "id": "HNInG4idJPWB",
        "outputId": "00c19957-e916-42e7-84b9-a71a66c7b1e6"
      },
      "source": [
        "str(list(range(1, 10001))).count('8')"
      ],
      "execution_count": null,
      "outputs": [
        {
          "output_type": "execute_result",
          "data": {
            "text/plain": [
              "4000"
            ]
          },
          "metadata": {},
          "execution_count": 63
        }
      ]
    },
    {
      "cell_type": "markdown",
      "metadata": {
        "id": "dyy8JfrKKfRU"
      },
      "source": [
        "# 47번"
      ]
    },
    {
      "cell_type": "code",
      "metadata": {
        "id": "vkl4XbSKKg6_"
      },
      "source": [
        "people = [\n",
        "         ('이호준', '01050442903'),\n",
        "         ('이호상', '01051442904'),\n",
        "         ('이준호', '01050342904'),\n",
        "         ('이호준', '01050442903'),\n",
        "         ('이준', '01050412904'),\n",
        "         ('이호', '01050443904'),\n",
        "         ('이호준', '01050442903'),\n",
        "         ]"
      ],
      "execution_count": null,
      "outputs": []
    },
    {
      "cell_type": "code",
      "metadata": {
        "colab": {
          "base_uri": "https://localhost:8080/"
        },
        "id": "1w0ZzJAlKtSF",
        "outputId": "7b7f49c2-6bfb-4b63-c173-106701146c83"
      },
      "source": [
        "len(set(people))"
      ],
      "execution_count": null,
      "outputs": [
        {
          "output_type": "execute_result",
          "data": {
            "text/plain": [
              "5"
            ]
          },
          "metadata": {},
          "execution_count": 75
        }
      ]
    },
    {
      "cell_type": "code",
      "metadata": {
        "colab": {
          "base_uri": "https://localhost:8080/"
        },
        "id": "7GHfaPryMYnH",
        "outputId": "8d4cf3bd-a31b-4af7-927f-541bb7d5ada1"
      },
      "source": [
        "set(people)"
      ],
      "execution_count": null,
      "outputs": [
        {
          "output_type": "execute_result",
          "data": {
            "text/plain": [
              "{('이준', '01050412904'),\n",
              " ('이준호', '01050342904'),\n",
              " ('이호', '01050443904'),\n",
              " ('이호상', '01051442904'),\n",
              " ('이호준', '01050442903')}"
            ]
          },
          "metadata": {},
          "execution_count": 76
        }
      ]
    },
    {
      "cell_type": "code",
      "metadata": {
        "colab": {
          "base_uri": "https://localhost:8080/"
        },
        "id": "fgZksfDkMaGI",
        "outputId": "aa2139db-8d62-4dab-e39f-0ccb0b7f99a0"
      },
      "source": [
        "d = {}\n",
        "for i in people:\n",
        "    d[i[1]] = i[0]\n",
        "d"
      ],
      "execution_count": null,
      "outputs": [
        {
          "output_type": "execute_result",
          "data": {
            "text/plain": [
              "{'01050342904': '이준호',\n",
              " '01050412904': '이준',\n",
              " '01050442903': '이호준',\n",
              " '01050443904': '이호',\n",
              " '01051442904': '이호상'}"
            ]
          },
          "metadata": {},
          "execution_count": 77
        }
      ]
    },
    {
      "cell_type": "markdown",
      "metadata": {
        "id": "UkfHAOYPNEMz"
      },
      "source": [
        "# 48번"
      ]
    },
    {
      "cell_type": "code",
      "metadata": {
        "id": "m6I74YxXNGoM"
      },
      "source": [
        "chr()\n",
        "ord()"
      ],
      "execution_count": null,
      "outputs": []
    },
    {
      "cell_type": "code",
      "metadata": {
        "colab": {
          "base_uri": "https://localhost:8080/",
          "height": 53
        },
        "id": "KYEEkAxHNJxU",
        "outputId": "7b7bf997-499a-4a44-83c1-629a69cb92d1"
      },
      "source": [
        "a = input()\n",
        "b = []\n",
        "\n",
        "for i in a:\n",
        "    if i.islower():\n",
        "        b.append(i.upper())\n",
        "    else:\n",
        "        b.append(i.lower())\n",
        "\n",
        "''.join(b)"
      ],
      "execution_count": null,
      "outputs": [
        {
          "output_type": "stream",
          "text": [
            "aaabbbCCCDDD\n"
          ],
          "name": "stdout"
        },
        {
          "output_type": "execute_result",
          "data": {
            "application/vnd.google.colaboratory.intrinsic+json": {
              "type": "string"
            },
            "text/plain": [
              "'AAABBBcccddd'"
            ]
          },
          "metadata": {},
          "execution_count": 78
        }
      ]
    },
    {
      "cell_type": "code",
      "metadata": {
        "colab": {
          "base_uri": "https://localhost:8080/"
        },
        "id": "5Nhw3sa1Nc7-",
        "outputId": "98db67b7-627a-423b-c36c-65a938e1fd2e"
      },
      "source": [
        "for i in b:\n",
        "    print(i, end='')"
      ],
      "execution_count": null,
      "outputs": [
        {
          "output_type": "stream",
          "text": [
            "AAABBBcccddd"
          ],
          "name": "stdout"
        }
      ]
    },
    {
      "cell_type": "markdown",
      "metadata": {
        "id": "gOtU4pRHNtx6"
      },
      "source": [
        "# 49번"
      ]
    },
    {
      "cell_type": "code",
      "metadata": {
        "colab": {
          "base_uri": "https://localhost:8080/"
        },
        "id": "idXZ6puDNtME",
        "outputId": "be655810-79f4-4e02-bfbd-2de11dd0c0e0"
      },
      "source": [
        "data = list(map(int, input().split()))\n",
        "data"
      ],
      "execution_count": null,
      "outputs": [
        {
          "output_type": "stream",
          "text": [
            "1 2 3 1 10 9\n"
          ],
          "name": "stdout"
        },
        {
          "output_type": "execute_result",
          "data": {
            "text/plain": [
              "[1, 2, 3, 1, 10, 9]"
            ]
          },
          "metadata": {},
          "execution_count": 80
        }
      ]
    },
    {
      "cell_type": "code",
      "metadata": {
        "colab": {
          "base_uri": "https://localhost:8080/"
        },
        "id": "5pWmWYWuN6xR",
        "outputId": "99bc8548-b3ba-4575-8b8a-b7193e47fb22"
      },
      "source": [
        "sorted(data, reverse=True)[0]"
      ],
      "execution_count": null,
      "outputs": [
        {
          "output_type": "execute_result",
          "data": {
            "text/plain": [
              "10"
            ]
          },
          "metadata": {},
          "execution_count": 84
        }
      ]
    },
    {
      "cell_type": "code",
      "metadata": {
        "colab": {
          "base_uri": "https://localhost:8080/"
        },
        "id": "DkFpoX0DOEw9",
        "outputId": "2fc4436a-9aa7-4e37-a388-34bab873a39a"
      },
      "source": [
        "max(data)"
      ],
      "execution_count": null,
      "outputs": [
        {
          "output_type": "execute_result",
          "data": {
            "text/plain": [
              "10"
            ]
          },
          "metadata": {},
          "execution_count": 85
        }
      ]
    },
    {
      "cell_type": "markdown",
      "metadata": {
        "id": "Pkx0ZsjdO5AD"
      },
      "source": [
        "# 50번"
      ]
    },
    {
      "cell_type": "code",
      "metadata": {
        "colab": {
          "base_uri": "https://localhost:8080/"
        },
        "id": "HmRzLsO7O6Ss",
        "outputId": "402986d8-8a78-40e8-e341-da409307755d"
      },
      "source": [
        "def bubble(n, data):\n",
        "\tfor i in range(n-1):\n",
        "\t\tfor j in range(n-i-1):\n",
        "\t\t\tif data[j] > data[j+1]:\n",
        "\t\t\t\tdata[j], data[j+1] = data[j+1], data[j]\n",
        "\tfor i in range(n):\n",
        "\t\tprint(data[i], end = \" \")\n",
        "\n",
        "n = int(input())\n",
        "data = list(map(int, input().split()))\n",
        "\n",
        "bubble(n, data)"
      ],
      "execution_count": null,
      "outputs": [
        {
          "output_type": "stream",
          "text": [
            "5\n",
            "5 1 4 3 2\n",
            "1 2 3 4 5 "
          ],
          "name": "stdout"
        }
      ]
    }
  ]
}